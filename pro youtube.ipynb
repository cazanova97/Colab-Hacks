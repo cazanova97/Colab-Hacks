{
  "nbformat": 4,
  "nbformat_minor": 0,
  "metadata": {
    "colab": {
      "provenance": [],
      "mount_file_id": "1Z9_ANR-sP-DSSQTQVNw8sZ9SzwptJJs1",
      "authorship_tag": "ABX9TyMHo0ShT2Xv9nwIHRZ+Jv1J",
      "include_colab_link": true
    },
    "kernelspec": {
      "name": "python3",
      "display_name": "Python 3"
    },
    "language_info": {
      "name": "python"
    }
  },
  "cells": [
    {
      "cell_type": "markdown",
      "metadata": {
        "id": "view-in-github",
        "colab_type": "text"
      },
      "source": [
        "<a href=\"https://colab.research.google.com/github/cazanova97/Colab-Hacks/blob/master/pro%20youtube.ipynb\" target=\"_parent\"><img src=\"https://colab.research.google.com/assets/colab-badge.svg\" alt=\"Open In Colab\"/></a>"
      ]
    },
    {
      "cell_type": "code",
      "execution_count": null,
      "metadata": {
        "id": "Ii4jzOFYQQcz"
      },
      "outputs": [],
      "source": []
    },
    {
      "cell_type": "code",
      "source": [
        "from google.colab import drive\n",
        "drive.mount('/content/drive')"
      ],
      "metadata": {
        "colab": {
          "base_uri": "https://localhost:8080/"
        },
        "id": "XJtF8z5_QSYi",
        "outputId": "a5e57113-84d4-4748-a59f-1ff94330f4b0",
        "collapsed": true
      },
      "execution_count": 2,
      "outputs": [
        {
          "output_type": "stream",
          "name": "stdout",
          "text": [
            "Drive already mounted at /content/drive; to attempt to forcibly remount, call drive.mount(\"/content/drive\", force_remount=True).\n"
          ]
        }
      ]
    },
    {
      "cell_type": "code",
      "source": [
        "# تثبيت جميع المكتبات المطلوبة\n",
        "!pip install google-generativeai python-dotenv num2words google-colab edge_tts whisper colorama pysrt selenium"
      ],
      "metadata": {
        "colab": {
          "base_uri": "https://localhost:8080/"
        },
        "id": "zo-4n6RuTYNE",
        "outputId": "c510dcfe-31cd-48e8-a685-825efce9a5bd",
        "collapsed": true
      },
      "execution_count": 3,
      "outputs": [
        {
          "output_type": "stream",
          "name": "stdout",
          "text": [
            "Requirement already satisfied: google-generativeai in /usr/local/lib/python3.10/dist-packages (0.8.3)\n",
            "Collecting python-dotenv\n",
            "  Downloading python_dotenv-1.0.1-py3-none-any.whl.metadata (23 kB)\n",
            "Collecting num2words\n",
            "  Downloading num2words-0.5.14-py3-none-any.whl.metadata (13 kB)\n",
            "Requirement already satisfied: google-colab in /usr/local/lib/python3.10/dist-packages (1.0.0)\n",
            "Collecting edge_tts\n",
            "  Downloading edge_tts-7.0.0-py3-none-any.whl.metadata (5.2 kB)\n",
            "Collecting whisper\n",
            "  Downloading whisper-1.1.10.tar.gz (42 kB)\n",
            "\u001b[2K     \u001b[90m━━━━━━━━━━━━━━━━━━━━━━━━━━━━━━━━━━━━━━━━\u001b[0m \u001b[32m42.8/42.8 kB\u001b[0m \u001b[31m2.9 MB/s\u001b[0m eta \u001b[36m0:00:00\u001b[0m\n",
            "\u001b[?25h  Preparing metadata (setup.py) ... \u001b[?25l\u001b[?25hdone\n",
            "Collecting colorama\n",
            "  Downloading colorama-0.4.6-py2.py3-none-any.whl.metadata (17 kB)\n",
            "Collecting pysrt\n",
            "  Downloading pysrt-1.1.2.tar.gz (104 kB)\n",
            "\u001b[2K     \u001b[90m━━━━━━━━━━━━━━━━━━━━━━━━━━━━━━━━━━━━━━━━\u001b[0m \u001b[32m104.4/104.4 kB\u001b[0m \u001b[31m5.2 MB/s\u001b[0m eta \u001b[36m0:00:00\u001b[0m\n",
            "\u001b[?25h  Preparing metadata (setup.py) ... \u001b[?25l\u001b[?25hdone\n",
            "Collecting selenium\n",
            "  Downloading selenium-4.27.1-py3-none-any.whl.metadata (7.1 kB)\n",
            "Requirement already satisfied: google-ai-generativelanguage==0.6.10 in /usr/local/lib/python3.10/dist-packages (from google-generativeai) (0.6.10)\n",
            "Requirement already satisfied: google-api-core in /usr/local/lib/python3.10/dist-packages (from google-generativeai) (2.19.2)\n",
            "Requirement already satisfied: google-api-python-client in /usr/local/lib/python3.10/dist-packages (from google-generativeai) (2.155.0)\n",
            "Requirement already satisfied: google-auth>=2.15.0 in /usr/local/lib/python3.10/dist-packages (from google-generativeai) (2.27.0)\n",
            "Requirement already satisfied: protobuf in /usr/local/lib/python3.10/dist-packages (from google-generativeai) (4.25.5)\n",
            "Requirement already satisfied: pydantic in /usr/local/lib/python3.10/dist-packages (from google-generativeai) (2.10.3)\n",
            "Requirement already satisfied: tqdm in /usr/local/lib/python3.10/dist-packages (from google-generativeai) (4.67.1)\n",
            "Requirement already satisfied: typing-extensions in /usr/local/lib/python3.10/dist-packages (from google-generativeai) (4.12.2)\n",
            "Requirement already satisfied: proto-plus<2.0.0dev,>=1.22.3 in /usr/local/lib/python3.10/dist-packages (from google-ai-generativelanguage==0.6.10->google-generativeai) (1.25.0)\n",
            "Collecting docopt>=0.6.2 (from num2words)\n",
            "  Downloading docopt-0.6.2.tar.gz (25 kB)\n",
            "  Preparing metadata (setup.py) ... \u001b[?25l\u001b[?25hdone\n",
            "Requirement already satisfied: ipykernel==5.5.6 in /usr/local/lib/python3.10/dist-packages (from google-colab) (5.5.6)\n",
            "Requirement already satisfied: ipyparallel==8.8.0 in /usr/local/lib/python3.10/dist-packages (from google-colab) (8.8.0)\n",
            "Requirement already satisfied: ipython==7.34.0 in /usr/local/lib/python3.10/dist-packages (from google-colab) (7.34.0)\n",
            "Requirement already satisfied: notebook==6.5.5 in /usr/local/lib/python3.10/dist-packages (from google-colab) (6.5.5)\n",
            "Requirement already satisfied: pandas==2.2.2 in /usr/local/lib/python3.10/dist-packages (from google-colab) (2.2.2)\n",
            "Requirement already satisfied: portpicker==1.5.2 in /usr/local/lib/python3.10/dist-packages (from google-colab) (1.5.2)\n",
            "Requirement already satisfied: requests==2.32.3 in /usr/local/lib/python3.10/dist-packages (from google-colab) (2.32.3)\n",
            "Requirement already satisfied: tornado==6.3.3 in /usr/local/lib/python3.10/dist-packages (from google-colab) (6.3.3)\n",
            "Requirement already satisfied: cachetools<6.0,>=2.0.0 in /usr/local/lib/python3.10/dist-packages (from google-auth>=2.15.0->google-generativeai) (5.5.0)\n",
            "Requirement already satisfied: pyasn1-modules>=0.2.1 in /usr/local/lib/python3.10/dist-packages (from google-auth>=2.15.0->google-generativeai) (0.4.1)\n",
            "Requirement already satisfied: rsa<5,>=3.1.4 in /usr/local/lib/python3.10/dist-packages (from google-auth>=2.15.0->google-generativeai) (4.9)\n",
            "Requirement already satisfied: ipython-genutils in /usr/local/lib/python3.10/dist-packages (from ipykernel==5.5.6->google-colab) (0.2.0)\n",
            "Requirement already satisfied: traitlets>=4.1.0 in /usr/local/lib/python3.10/dist-packages (from ipykernel==5.5.6->google-colab) (5.7.1)\n",
            "Requirement already satisfied: jupyter-client in /usr/local/lib/python3.10/dist-packages (from ipykernel==5.5.6->google-colab) (6.1.12)\n",
            "Requirement already satisfied: decorator in /usr/local/lib/python3.10/dist-packages (from ipyparallel==8.8.0->google-colab) (4.4.2)\n",
            "Requirement already satisfied: entrypoints in /usr/local/lib/python3.10/dist-packages (from ipyparallel==8.8.0->google-colab) (0.4)\n",
            "Requirement already satisfied: psutil in /usr/local/lib/python3.10/dist-packages (from ipyparallel==8.8.0->google-colab) (5.9.5)\n",
            "Requirement already satisfied: python-dateutil>=2.1 in /usr/local/lib/python3.10/dist-packages (from ipyparallel==8.8.0->google-colab) (2.8.2)\n",
            "Requirement already satisfied: pyzmq>=18 in /usr/local/lib/python3.10/dist-packages (from ipyparallel==8.8.0->google-colab) (24.0.1)\n",
            "Requirement already satisfied: setuptools>=18.5 in /usr/local/lib/python3.10/dist-packages (from ipython==7.34.0->google-colab) (75.1.0)\n",
            "Collecting jedi>=0.16 (from ipython==7.34.0->google-colab)\n",
            "  Downloading jedi-0.19.2-py2.py3-none-any.whl.metadata (22 kB)\n",
            "Requirement already satisfied: pickleshare in /usr/local/lib/python3.10/dist-packages (from ipython==7.34.0->google-colab) (0.7.5)\n",
            "Requirement already satisfied: prompt-toolkit!=3.0.0,!=3.0.1,<3.1.0,>=2.0.0 in /usr/local/lib/python3.10/dist-packages (from ipython==7.34.0->google-colab) (3.0.48)\n",
            "Requirement already satisfied: pygments in /usr/local/lib/python3.10/dist-packages (from ipython==7.34.0->google-colab) (2.18.0)\n",
            "Requirement already satisfied: backcall in /usr/local/lib/python3.10/dist-packages (from ipython==7.34.0->google-colab) (0.2.0)\n",
            "Requirement already satisfied: matplotlib-inline in /usr/local/lib/python3.10/dist-packages (from ipython==7.34.0->google-colab) (0.1.7)\n",
            "Requirement already satisfied: pexpect>4.3 in /usr/local/lib/python3.10/dist-packages (from ipython==7.34.0->google-colab) (4.9.0)\n",
            "Requirement already satisfied: jinja2 in /usr/local/lib/python3.10/dist-packages (from notebook==6.5.5->google-colab) (3.1.4)\n",
            "Requirement already satisfied: argon2-cffi in /usr/local/lib/python3.10/dist-packages (from notebook==6.5.5->google-colab) (23.1.0)\n",
            "Requirement already satisfied: jupyter-core>=4.6.1 in /usr/local/lib/python3.10/dist-packages (from notebook==6.5.5->google-colab) (5.7.2)\n",
            "Requirement already satisfied: nbformat in /usr/local/lib/python3.10/dist-packages (from notebook==6.5.5->google-colab) (5.10.4)\n",
            "Requirement already satisfied: nbconvert>=5 in /usr/local/lib/python3.10/dist-packages (from notebook==6.5.5->google-colab) (7.16.4)\n",
            "Requirement already satisfied: nest-asyncio>=1.5 in /usr/local/lib/python3.10/dist-packages (from notebook==6.5.5->google-colab) (1.6.0)\n",
            "Requirement already satisfied: Send2Trash>=1.8.0 in /usr/local/lib/python3.10/dist-packages (from notebook==6.5.5->google-colab) (1.8.3)\n",
            "Requirement already satisfied: terminado>=0.8.3 in /usr/local/lib/python3.10/dist-packages (from notebook==6.5.5->google-colab) (0.18.1)\n",
            "Requirement already satisfied: prometheus-client in /usr/local/lib/python3.10/dist-packages (from notebook==6.5.5->google-colab) (0.21.1)\n",
            "Requirement already satisfied: nbclassic>=0.4.7 in /usr/local/lib/python3.10/dist-packages (from notebook==6.5.5->google-colab) (1.1.0)\n",
            "Requirement already satisfied: numpy>=1.22.4 in /usr/local/lib/python3.10/dist-packages (from pandas==2.2.2->google-colab) (1.26.4)\n",
            "Requirement already satisfied: pytz>=2020.1 in /usr/local/lib/python3.10/dist-packages (from pandas==2.2.2->google-colab) (2024.2)\n",
            "Requirement already satisfied: tzdata>=2022.7 in /usr/local/lib/python3.10/dist-packages (from pandas==2.2.2->google-colab) (2024.2)\n",
            "Requirement already satisfied: charset-normalizer<4,>=2 in /usr/local/lib/python3.10/dist-packages (from requests==2.32.3->google-colab) (3.4.0)\n",
            "Requirement already satisfied: idna<4,>=2.5 in /usr/local/lib/python3.10/dist-packages (from requests==2.32.3->google-colab) (3.10)\n",
            "Requirement already satisfied: urllib3<3,>=1.21.1 in /usr/local/lib/python3.10/dist-packages (from requests==2.32.3->google-colab) (2.2.3)\n",
            "Requirement already satisfied: certifi>=2017.4.17 in /usr/local/lib/python3.10/dist-packages (from requests==2.32.3->google-colab) (2024.12.14)\n",
            "Requirement already satisfied: aiohttp<4.0.0,>=3.8.0 in /usr/local/lib/python3.10/dist-packages (from edge_tts) (3.11.10)\n",
            "Collecting srt<4.0.0,>=3.4.1 (from edge_tts)\n",
            "  Downloading srt-3.5.3.tar.gz (28 kB)\n",
            "  Preparing metadata (setup.py) ... \u001b[?25l\u001b[?25hdone\n",
            "Requirement already satisfied: tabulate<1.0.0,>=0.4.4 in /usr/local/lib/python3.10/dist-packages (from edge_tts) (0.9.0)\n",
            "Requirement already satisfied: six in /usr/local/lib/python3.10/dist-packages (from whisper) (1.17.0)\n",
            "Requirement already satisfied: chardet in /usr/local/lib/python3.10/dist-packages (from pysrt) (5.2.0)\n",
            "Collecting trio~=0.17 (from selenium)\n",
            "  Downloading trio-0.28.0-py3-none-any.whl.metadata (8.5 kB)\n",
            "Collecting trio-websocket~=0.9 (from selenium)\n",
            "  Downloading trio_websocket-0.11.1-py3-none-any.whl.metadata (4.7 kB)\n",
            "Requirement already satisfied: websocket-client~=1.8 in /usr/local/lib/python3.10/dist-packages (from selenium) (1.8.0)\n",
            "Requirement already satisfied: aiohappyeyeballs>=2.3.0 in /usr/local/lib/python3.10/dist-packages (from aiohttp<4.0.0,>=3.8.0->edge_tts) (2.4.4)\n",
            "Requirement already satisfied: aiosignal>=1.1.2 in /usr/local/lib/python3.10/dist-packages (from aiohttp<4.0.0,>=3.8.0->edge_tts) (1.3.2)\n",
            "Requirement already satisfied: async-timeout<6.0,>=4.0 in /usr/local/lib/python3.10/dist-packages (from aiohttp<4.0.0,>=3.8.0->edge_tts) (4.0.3)\n",
            "Requirement already satisfied: attrs>=17.3.0 in /usr/local/lib/python3.10/dist-packages (from aiohttp<4.0.0,>=3.8.0->edge_tts) (24.3.0)\n",
            "Requirement already satisfied: frozenlist>=1.1.1 in /usr/local/lib/python3.10/dist-packages (from aiohttp<4.0.0,>=3.8.0->edge_tts) (1.5.0)\n",
            "Requirement already satisfied: multidict<7.0,>=4.5 in /usr/local/lib/python3.10/dist-packages (from aiohttp<4.0.0,>=3.8.0->edge_tts) (6.1.0)\n",
            "Requirement already satisfied: propcache>=0.2.0 in /usr/local/lib/python3.10/dist-packages (from aiohttp<4.0.0,>=3.8.0->edge_tts) (0.2.1)\n",
            "Requirement already satisfied: yarl<2.0,>=1.17.0 in /usr/local/lib/python3.10/dist-packages (from aiohttp<4.0.0,>=3.8.0->edge_tts) (1.18.3)\n",
            "Requirement already satisfied: googleapis-common-protos<2.0.dev0,>=1.56.2 in /usr/local/lib/python3.10/dist-packages (from google-api-core->google-generativeai) (1.66.0)\n",
            "Collecting sortedcontainers (from trio~=0.17->selenium)\n",
            "  Downloading sortedcontainers-2.4.0-py2.py3-none-any.whl.metadata (10 kB)\n",
            "Collecting outcome (from trio~=0.17->selenium)\n",
            "  Downloading outcome-1.3.0.post0-py2.py3-none-any.whl.metadata (2.6 kB)\n",
            "Requirement already satisfied: sniffio>=1.3.0 in /usr/local/lib/python3.10/dist-packages (from trio~=0.17->selenium) (1.3.1)\n",
            "Requirement already satisfied: exceptiongroup in /usr/local/lib/python3.10/dist-packages (from trio~=0.17->selenium) (1.2.2)\n",
            "Collecting wsproto>=0.14 (from trio-websocket~=0.9->selenium)\n",
            "  Downloading wsproto-1.2.0-py3-none-any.whl.metadata (5.6 kB)\n",
            "Requirement already satisfied: pysocks!=1.5.7,<2.0,>=1.5.6 in /usr/local/lib/python3.10/dist-packages (from urllib3[socks]<3,>=1.26->selenium) (1.7.1)\n",
            "Requirement already satisfied: httplib2<1.dev0,>=0.19.0 in /usr/local/lib/python3.10/dist-packages (from google-api-python-client->google-generativeai) (0.22.0)\n",
            "Requirement already satisfied: google-auth-httplib2<1.0.0,>=0.2.0 in /usr/local/lib/python3.10/dist-packages (from google-api-python-client->google-generativeai) (0.2.0)\n",
            "Requirement already satisfied: uritemplate<5,>=3.0.1 in /usr/local/lib/python3.10/dist-packages (from google-api-python-client->google-generativeai) (4.1.1)\n",
            "Requirement already satisfied: annotated-types>=0.6.0 in /usr/local/lib/python3.10/dist-packages (from pydantic->google-generativeai) (0.7.0)\n",
            "Requirement already satisfied: pydantic-core==2.27.1 in /usr/local/lib/python3.10/dist-packages (from pydantic->google-generativeai) (2.27.1)\n",
            "Requirement already satisfied: grpcio<2.0dev,>=1.33.2 in /usr/local/lib/python3.10/dist-packages (from google-api-core[grpc]!=2.0.*,!=2.1.*,!=2.10.*,!=2.2.*,!=2.3.*,!=2.4.*,!=2.5.*,!=2.6.*,!=2.7.*,!=2.8.*,!=2.9.*,<3.0.0dev,>=1.34.1->google-ai-generativelanguage==0.6.10->google-generativeai) (1.68.1)\n",
            "Requirement already satisfied: grpcio-status<2.0.dev0,>=1.33.2 in /usr/local/lib/python3.10/dist-packages (from google-api-core[grpc]!=2.0.*,!=2.1.*,!=2.10.*,!=2.2.*,!=2.3.*,!=2.4.*,!=2.5.*,!=2.6.*,!=2.7.*,!=2.8.*,!=2.9.*,<3.0.0dev,>=1.34.1->google-ai-generativelanguage==0.6.10->google-generativeai) (1.62.3)\n",
            "Requirement already satisfied: pyparsing!=3.0.0,!=3.0.1,!=3.0.2,!=3.0.3,<4,>=2.4.2 in /usr/local/lib/python3.10/dist-packages (from httplib2<1.dev0,>=0.19.0->google-api-python-client->google-generativeai) (3.2.0)\n",
            "Requirement already satisfied: parso<0.9.0,>=0.8.4 in /usr/local/lib/python3.10/dist-packages (from jedi>=0.16->ipython==7.34.0->google-colab) (0.8.4)\n",
            "Requirement already satisfied: platformdirs>=2.5 in /usr/local/lib/python3.10/dist-packages (from jupyter-core>=4.6.1->notebook==6.5.5->google-colab) (4.3.6)\n",
            "Requirement already satisfied: notebook-shim>=0.2.3 in /usr/local/lib/python3.10/dist-packages (from nbclassic>=0.4.7->notebook==6.5.5->google-colab) (0.2.4)\n",
            "Requirement already satisfied: beautifulsoup4 in /usr/local/lib/python3.10/dist-packages (from nbconvert>=5->notebook==6.5.5->google-colab) (4.12.3)\n",
            "Requirement already satisfied: bleach!=5.0.0 in /usr/local/lib/python3.10/dist-packages (from nbconvert>=5->notebook==6.5.5->google-colab) (6.2.0)\n",
            "Requirement already satisfied: defusedxml in /usr/local/lib/python3.10/dist-packages (from nbconvert>=5->notebook==6.5.5->google-colab) (0.7.1)\n",
            "Requirement already satisfied: jupyterlab-pygments in /usr/local/lib/python3.10/dist-packages (from nbconvert>=5->notebook==6.5.5->google-colab) (0.3.0)\n",
            "Requirement already satisfied: markupsafe>=2.0 in /usr/local/lib/python3.10/dist-packages (from nbconvert>=5->notebook==6.5.5->google-colab) (3.0.2)\n",
            "Requirement already satisfied: mistune<4,>=2.0.3 in /usr/local/lib/python3.10/dist-packages (from nbconvert>=5->notebook==6.5.5->google-colab) (3.0.2)\n",
            "Requirement already satisfied: nbclient>=0.5.0 in /usr/local/lib/python3.10/dist-packages (from nbconvert>=5->notebook==6.5.5->google-colab) (0.10.1)\n",
            "Requirement already satisfied: packaging in /usr/local/lib/python3.10/dist-packages (from nbconvert>=5->notebook==6.5.5->google-colab) (24.2)\n",
            "Requirement already satisfied: pandocfilters>=1.4.1 in /usr/local/lib/python3.10/dist-packages (from nbconvert>=5->notebook==6.5.5->google-colab) (1.5.1)\n",
            "Requirement already satisfied: tinycss2 in /usr/local/lib/python3.10/dist-packages (from nbconvert>=5->notebook==6.5.5->google-colab) (1.4.0)\n",
            "Requirement already satisfied: fastjsonschema>=2.15 in /usr/local/lib/python3.10/dist-packages (from nbformat->notebook==6.5.5->google-colab) (2.21.1)\n",
            "Requirement already satisfied: jsonschema>=2.6 in /usr/local/lib/python3.10/dist-packages (from nbformat->notebook==6.5.5->google-colab) (4.23.0)\n",
            "Requirement already satisfied: ptyprocess>=0.5 in /usr/local/lib/python3.10/dist-packages (from pexpect>4.3->ipython==7.34.0->google-colab) (0.7.0)\n",
            "Requirement already satisfied: wcwidth in /usr/local/lib/python3.10/dist-packages (from prompt-toolkit!=3.0.0,!=3.0.1,<3.1.0,>=2.0.0->ipython==7.34.0->google-colab) (0.2.13)\n",
            "Requirement already satisfied: pyasn1<0.7.0,>=0.4.6 in /usr/local/lib/python3.10/dist-packages (from pyasn1-modules>=0.2.1->google-auth>=2.15.0->google-generativeai) (0.6.1)\n",
            "Requirement already satisfied: h11<1,>=0.9.0 in /usr/local/lib/python3.10/dist-packages (from wsproto>=0.14->trio-websocket~=0.9->selenium) (0.14.0)\n",
            "Requirement already satisfied: argon2-cffi-bindings in /usr/local/lib/python3.10/dist-packages (from argon2-cffi->notebook==6.5.5->google-colab) (21.2.0)\n",
            "Requirement already satisfied: webencodings in /usr/local/lib/python3.10/dist-packages (from bleach!=5.0.0->nbconvert>=5->notebook==6.5.5->google-colab) (0.5.1)\n",
            "Requirement already satisfied: jsonschema-specifications>=2023.03.6 in /usr/local/lib/python3.10/dist-packages (from jsonschema>=2.6->nbformat->notebook==6.5.5->google-colab) (2024.10.1)\n",
            "Requirement already satisfied: referencing>=0.28.4 in /usr/local/lib/python3.10/dist-packages (from jsonschema>=2.6->nbformat->notebook==6.5.5->google-colab) (0.35.1)\n",
            "Requirement already satisfied: rpds-py>=0.7.1 in /usr/local/lib/python3.10/dist-packages (from jsonschema>=2.6->nbformat->notebook==6.5.5->google-colab) (0.22.3)\n",
            "Requirement already satisfied: jupyter-server<3,>=1.8 in /usr/local/lib/python3.10/dist-packages (from notebook-shim>=0.2.3->nbclassic>=0.4.7->notebook==6.5.5->google-colab) (1.24.0)\n",
            "Requirement already satisfied: cffi>=1.0.1 in /usr/local/lib/python3.10/dist-packages (from argon2-cffi-bindings->argon2-cffi->notebook==6.5.5->google-colab) (1.17.1)\n",
            "Requirement already satisfied: soupsieve>1.2 in /usr/local/lib/python3.10/dist-packages (from beautifulsoup4->nbconvert>=5->notebook==6.5.5->google-colab) (2.6)\n",
            "Requirement already satisfied: pycparser in /usr/local/lib/python3.10/dist-packages (from cffi>=1.0.1->argon2-cffi-bindings->argon2-cffi->notebook==6.5.5->google-colab) (2.22)\n",
            "Requirement already satisfied: anyio<4,>=3.1.0 in /usr/local/lib/python3.10/dist-packages (from jupyter-server<3,>=1.8->notebook-shim>=0.2.3->nbclassic>=0.4.7->notebook==6.5.5->google-colab) (3.7.1)\n",
            "Downloading python_dotenv-1.0.1-py3-none-any.whl (19 kB)\n",
            "Downloading num2words-0.5.14-py3-none-any.whl (163 kB)\n",
            "\u001b[2K   \u001b[90m━━━━━━━━━━━━━━━━━━━━━━━━━━━━━━━━━━━━━━━━\u001b[0m \u001b[32m163.5/163.5 kB\u001b[0m \u001b[31m12.9 MB/s\u001b[0m eta \u001b[36m0:00:00\u001b[0m\n",
            "\u001b[?25hDownloading edge_tts-7.0.0-py3-none-any.whl (23 kB)\n",
            "Downloading colorama-0.4.6-py2.py3-none-any.whl (25 kB)\n",
            "Downloading selenium-4.27.1-py3-none-any.whl (9.7 MB)\n",
            "\u001b[2K   \u001b[90m━━━━━━━━━━━━━━━━━━━━━━━━━━━━━━━━━━━━━━━━\u001b[0m \u001b[32m9.7/9.7 MB\u001b[0m \u001b[31m78.4 MB/s\u001b[0m eta \u001b[36m0:00:00\u001b[0m\n",
            "\u001b[?25hDownloading trio-0.28.0-py3-none-any.whl (486 kB)\n",
            "\u001b[2K   \u001b[90m━━━━━━━━━━━━━━━━━━━━━━━━━━━━━━━━━━━━━━━━\u001b[0m \u001b[32m486.3/486.3 kB\u001b[0m \u001b[31m27.0 MB/s\u001b[0m eta \u001b[36m0:00:00\u001b[0m\n",
            "\u001b[?25hDownloading trio_websocket-0.11.1-py3-none-any.whl (17 kB)\n",
            "Downloading jedi-0.19.2-py2.py3-none-any.whl (1.6 MB)\n",
            "\u001b[2K   \u001b[90m━━━━━━━━━━━━━━━━━━━━━━━━━━━━━━━━━━━━━━━━\u001b[0m \u001b[32m1.6/1.6 MB\u001b[0m \u001b[31m60.3 MB/s\u001b[0m eta \u001b[36m0:00:00\u001b[0m\n",
            "\u001b[?25hDownloading wsproto-1.2.0-py3-none-any.whl (24 kB)\n",
            "Downloading outcome-1.3.0.post0-py2.py3-none-any.whl (10 kB)\n",
            "Downloading sortedcontainers-2.4.0-py2.py3-none-any.whl (29 kB)\n",
            "Building wheels for collected packages: whisper, pysrt, docopt, srt\n",
            "  Building wheel for whisper (setup.py) ... \u001b[?25l\u001b[?25hdone\n",
            "  Created wheel for whisper: filename=whisper-1.1.10-py3-none-any.whl size=41120 sha256=5ff5b6de299853d5b395fc593b887c88db8fb6f5ceae5ab9a7151c193f670a67\n",
            "  Stored in directory: /root/.cache/pip/wheels/aa/7c/1d/015619716e2facae6631312503baf3c3220e6a9a3508cb14b6\n",
            "  Building wheel for pysrt (setup.py) ... \u001b[?25l\u001b[?25hdone\n",
            "  Created wheel for pysrt: filename=pysrt-1.1.2-py3-none-any.whl size=13443 sha256=ecbd1e3ee9bed28e14738a6622ccc5a9030e0156bd6a2f914dfaf5c5ff831418\n",
            "  Stored in directory: /root/.cache/pip/wheels/30/7f/e8/55de9a9b07302d9e7fe47c27910e3bea0c48536153e74bd7e6\n",
            "  Building wheel for docopt (setup.py) ... \u001b[?25l\u001b[?25hdone\n",
            "  Created wheel for docopt: filename=docopt-0.6.2-py2.py3-none-any.whl size=13706 sha256=a9749e42c7cb1e83cba8795e0202dce1f4b57b11edf13ff3973ff60056fcb244\n",
            "  Stored in directory: /root/.cache/pip/wheels/fc/ab/d4/5da2067ac95b36618c629a5f93f809425700506f72c9732fac\n",
            "  Building wheel for srt (setup.py) ... \u001b[?25l\u001b[?25hdone\n",
            "  Created wheel for srt: filename=srt-3.5.3-py3-none-any.whl size=22428 sha256=1c195107e53dde9ba4304c38ce8c4e7826e89647e7735321cc51f040c3e2fa32\n",
            "  Stored in directory: /root/.cache/pip/wheels/d7/31/a1/18e1e7e8bfdafd19e6803d7eb919b563dd11de380e4304e332\n",
            "Successfully built whisper pysrt docopt srt\n",
            "Installing collected packages: sortedcontainers, docopt, wsproto, whisper, srt, python-dotenv, pysrt, outcome, num2words, jedi, colorama, trio, trio-websocket, selenium, edge_tts\n",
            "Successfully installed colorama-0.4.6 docopt-0.6.2 edge_tts-7.0.0 jedi-0.19.2 num2words-0.5.14 outcome-1.3.0.post0 pysrt-1.1.2 python-dotenv-1.0.1 selenium-4.27.1 sortedcontainers-2.4.0 srt-3.5.3 trio-0.28.0 trio-websocket-0.11.1 whisper-1.1.10 wsproto-1.2.0\n"
          ]
        }
      ]
    },
    {
      "cell_type": "code",
      "source": [
        "from google.colab import drive\n",
        "drive.mount('/content/drive')"
      ],
      "metadata": {
        "colab": {
          "base_uri": "https://localhost:8080/"
        },
        "id": "UNlTaoXba_h5",
        "outputId": "255f5e37-884a-44b3-c625-53a5d1eae3bd",
        "collapsed": true
      },
      "execution_count": 4,
      "outputs": [
        {
          "output_type": "stream",
          "name": "stdout",
          "text": [
            "Drive already mounted at /content/drive; to attempt to forcibly remount, call drive.mount(\"/content/drive\", force_remount=True).\n"
          ]
        }
      ]
    },
    {
      "cell_type": "code",
      "source": [
        "!pip install python-dotenv"
      ],
      "metadata": {
        "colab": {
          "base_uri": "https://localhost:8080/"
        },
        "id": "qng_H9Wqes96",
        "outputId": "c306997b-82f2-40be-a181-1e039623037a",
        "collapsed": true
      },
      "execution_count": 5,
      "outputs": [
        {
          "output_type": "stream",
          "name": "stdout",
          "text": [
            "Requirement already satisfied: python-dotenv in /usr/local/lib/python3.10/dist-packages (1.0.1)\n"
          ]
        }
      ]
    },
    {
      "cell_type": "code",
      "source": [
        "!python \"/content/drive/MyDrive/YouTubeGen Pro 3/Models/1 TOPICE GENERATE TEXT.py\""
      ],
      "metadata": {
        "colab": {
          "base_uri": "https://localhost:8080/"
        },
        "id": "sz0AnKwtatup",
        "outputId": "975ae204-9f69-4cc3-9616-59ea28b59987",
        "collapsed": true
      },
      "execution_count": 8,
      "outputs": [
        {
          "output_type": "stream",
          "name": "stdout",
          "text": [
            "2025-01-04 18:41:55,695 - INFO - 📄 1 TOPICE GENERATE TEXT - STARTING\n",
            "2025-01-04 18:41:57,169 - INFO - 🔄 إرسال البرومبت: Generate a رسمى مقال with approximately 350 words.\n",
            "\n",
            "موضوع افتراضي\n",
            "\n",
            "Do not include the following topics in the generated text: أبو جعفر المنصور, ألفريد العظيم, نيكولا تسلا, أبراهام لينكولن.\n",
            "Traceback (most recent call last):\n",
            "  File \"/content/drive/MyDrive/YouTubeGen Pro 3/Models/1 TOPICE GENERATE TEXT.py\", line 365, in <module>\n",
            "    process_generation()\n",
            "  File \"/content/drive/MyDrive/YouTubeGen Pro 3/Models/1 TOPICE GENERATE TEXT.py\", line 326, in process_generation\n",
            "    generated_text = generate_text(api_key, prompt, max_words=word_count, style=style, text_type=text_type)\n",
            "  File \"/content/drive/MyDrive/YouTubeGen Pro 3/Models/1 TOPICE GENERATE TEXT.py\", line 75, in generate_text\n",
            "    response = chat.send_message(prompt_custom)\n",
            "  File \"/usr/local/lib/python3.10/dist-packages/google/generativeai/generative_models.py\", line 578, in send_message\n",
            "    response = self.model.generate_content(\n",
            "  File \"/usr/local/lib/python3.10/dist-packages/google/generativeai/generative_models.py\", line 331, in generate_content\n",
            "    response = self._client.generate_content(\n",
            "  File \"/usr/local/lib/python3.10/dist-packages/google/ai/generativelanguage_v1beta/services/generative_service/client.py\", line 830, in generate_content\n",
            "    response = rpc(\n",
            "  File \"/usr/local/lib/python3.10/dist-packages/google/api_core/gapic_v1/method.py\", line 131, in __call__\n",
            "    return wrapped_func(*args, **kwargs)\n",
            "  File \"/usr/local/lib/python3.10/dist-packages/google/api_core/retry/retry_unary.py\", line 293, in retry_wrapped_func\n",
            "    return retry_target(\n",
            "  File \"/usr/local/lib/python3.10/dist-packages/google/api_core/retry/retry_unary.py\", line 144, in retry_target\n",
            "    result = target()\n",
            "  File \"/usr/local/lib/python3.10/dist-packages/google/api_core/timeout.py\", line 120, in func_with_timeout\n",
            "    return func(*args, **kwargs)\n",
            "  File \"/usr/local/lib/python3.10/dist-packages/google/api_core/grpc_helpers.py\", line 76, in error_remapped_callable\n",
            "    return callable_(*args, **kwargs)\n",
            "  File \"/usr/local/lib/python3.10/dist-packages/grpc/_channel.py\", line 1178, in __call__\n",
            "    ) = self._blocking(\n",
            "  File \"/usr/local/lib/python3.10/dist-packages/grpc/_channel.py\", line 1162, in _blocking\n",
            "    event = call.next_event()\n",
            "  File \"src/python/grpcio/grpc/_cython/_cygrpc/channel.pyx.pxi\", line 388, in grpc._cython.cygrpc.SegregatedCall.next_event\n",
            "  File \"src/python/grpcio/grpc/_cython/_cygrpc/channel.pyx.pxi\", line 211, in grpc._cython.cygrpc._next_call_event\n",
            "  File \"src/python/grpcio/grpc/_cython/_cygrpc/channel.pyx.pxi\", line 205, in grpc._cython.cygrpc._next_call_event\n",
            "  File \"src/python/grpcio/grpc/_cython/_cygrpc/completion_queue.pyx.pxi\", line 78, in grpc._cython.cygrpc._latent_event\n",
            "  File \"src/python/grpcio/grpc/_cython/_cygrpc/completion_queue.pyx.pxi\", line 61, in grpc._cython.cygrpc._internal_latent_event\n",
            "  File \"src/python/grpcio/grpc/_cython/_cygrpc/completion_queue.pyx.pxi\", line 42, in grpc._cython.cygrpc._next\n",
            "KeyboardInterrupt\n",
            "^C\n"
          ]
        }
      ]
    },
    {
      "cell_type": "code",
      "source": [
        "!python \"/content/drive/MyDrive/YouTubeGen Pro 3/Models/2 Prompts.py\""
      ],
      "metadata": {
        "colab": {
          "base_uri": "https://localhost:8080/"
        },
        "collapsed": true,
        "id": "kuoj-pAFfnRB",
        "outputId": "0dc31f3b-8886-441c-eb90-462e56267408"
      },
      "execution_count": 7,
      "outputs": [
        {
          "output_type": "stream",
          "name": "stdout",
          "text": [
            "Traceback (most recent call last):\n",
            "  File \"/content/drive/MyDrive/YouTubeGen Pro 3/Models/2 Prompts.py\", line 38, in <module>\n",
            "    from config import load_api_keys, load_settings\n",
            "  File \"/content/drive/MyDrive/YouTubeGen Pro 3/config/config.py\", line 89\n",
            "    SETTINGS = {\n",
            "               ^\n",
            "SyntaxError: '{' was never closed\n"
          ]
        }
      ]
    },
    {
      "cell_type": "code",
      "source": [
        "!python \"/content/drive/MyDrive/YouTubeGen Pro 3/Models/3 Generate Images.py\""
      ],
      "metadata": {
        "colab": {
          "base_uri": "https://localhost:8080/"
        },
        "id": "X7qdiQ36gz8W",
        "outputId": "616e68b7-f752-476b-f6af-52e182d14a82",
        "collapsed": true
      },
      "execution_count": 48,
      "outputs": [
        {
          "output_type": "stream",
          "name": "stdout",
          "text": [
            "2025-01-04 10:21:03,460 - INFO - 🚀 بدء برنامج توليد الصور.\n",
            "2025-01-04 10:21:03,480 - INFO - 🗑️ تم حذف المجلد: /content/drive/MyDrive/YouTubeGen Pro 3/OUTPUT/Generated_Images/prompt_1\n",
            "2025-01-04 10:21:03,492 - INFO - 🗑️ تم حذف المجلد: /content/drive/MyDrive/YouTubeGen Pro 3/OUTPUT/Generated_Images/prompt_2\n",
            "2025-01-04 10:21:03,500 - INFO - 🗑️ تم حذف المجلد: /content/drive/MyDrive/YouTubeGen Pro 3/OUTPUT/Generated_Images/prompt_3\n",
            "2025-01-04 10:21:03,500 - INFO - ✅ تم اختيار الاستايل رقم 1: 3D Render with High Detail\n",
            "2025-01-04 10:21:03,500 - INFO - ✅ تم اختيار المقاس رقم 2: (1080, 1920)\n",
            "2025-01-04 10:21:03,506 - INFO - 📖 تم قراءة 2 برومبت من الملف: /content/drive/MyDrive/YouTubeGen Pro 3/OUTPUT/Pro Output Prompts/Pro Output Prompts/prompt_1.txt\n",
            "2025-01-04 10:21:03,511 - INFO - 🔄 استخدام API key #1 للمحاولة: \"Welcome to our story today about an inspiring hist...\"\n",
            "2025-01-04 10:21:03,512 - INFO - 🔄 طلب توليد صورة للبرومبت: Welcome to our story today about an inspiring hist...\n",
            "2025-01-04 10:21:14,026 - INFO - ✅ تم توليد الصورة بنجاح.\n",
            "2025-01-04 10:21:14,042 - INFO - ✅ تم توليد الصورة باستخدام API key #1.\n",
            "2025-01-04 10:21:14,155 - INFO - 🔄 تم تغيير حجم الصورة إلى 1080x1920\n",
            "2025-01-04 10:21:14,812 - INFO - ✅ تم حفظ الصورة: /content/drive/MyDrive/YouTubeGen Pro 3/OUTPUT/Generated_Images/prompt_1/image_1.png\n",
            "2025-01-04 10:21:14,813 - INFO - 🔄 استخدام API key #1 للمحاولة: \"The scene takes place in a small, cozy library. Th...\"\n",
            "2025-01-04 10:21:14,813 - INFO - 🔄 طلب توليد صورة للبرومبت: The scene takes place in a small, cozy library. Th...\n",
            "2025-01-04 10:21:49,969 - INFO - ✅ تم توليد الصورة بنجاح.\n",
            "2025-01-04 10:21:49,970 - INFO - ✅ تم توليد الصورة باستخدام API key #1.\n",
            "2025-01-04 10:21:50,074 - INFO - 🔄 تم تغيير حجم الصورة إلى 1080x1920\n",
            "2025-01-04 10:21:51,692 - INFO - ✅ تم حفظ الصورة: /content/drive/MyDrive/YouTubeGen Pro 3/OUTPUT/Generated_Images/prompt_1/image_2.png\n",
            "2025-01-04 10:21:51,705 - INFO - 📖 تم قراءة 2 برومبت من الملف: /content/drive/MyDrive/YouTubeGen Pro 3/OUTPUT/Pro Output Prompts/Pro Output Prompts/prompt_2.txt\n",
            "2025-01-04 10:21:51,720 - INFO - 🔄 استخدام API key #1 للمحاولة: \"Join us on a journey through the life of this rema...\"\n",
            "2025-01-04 10:21:51,722 - INFO - 🔄 طلب توليد صورة للبرومبت: Join us on a journey through the life of this rema...\n",
            "2025-01-04 10:21:51,835 - WARNING - ⚠️ تم الوصول إلى الحد الأقصى للمفتاح. سيتم التبديل.\n",
            "2025-01-04 10:21:51,836 - WARNING - ⚠️ تم الوصول إلى الحد الأقصى للمفتاح #1. سيتم التبديل.\n",
            "2025-01-04 10:21:51,837 - INFO - 🔄 استخدام API key #2 للمحاولة: \"Join us on a journey through the life of this rema...\"\n",
            "2025-01-04 10:21:51,838 - INFO - 🔄 طلب توليد صورة للبرومبت: Join us on a journey through the life of this rema...\n",
            "2025-01-04 10:22:10,019 - INFO - ✅ تم توليد الصورة بنجاح.\n",
            "2025-01-04 10:22:10,021 - INFO - ✅ تم توليد الصورة باستخدام API key #2.\n",
            "2025-01-04 10:22:10,082 - INFO - 🔄 تم تغيير حجم الصورة إلى 1080x1920\n",
            "2025-01-04 10:22:10,613 - INFO - ✅ تم حفظ الصورة: /content/drive/MyDrive/YouTubeGen Pro 3/OUTPUT/Generated_Images/prompt_2/image_1.png\n",
            "2025-01-04 10:22:10,614 - INFO - 🔄 استخدام API key #1 للمحاولة: \"As we follow his footsteps, we see him rally his p...\"\n",
            "2025-01-04 10:22:10,615 - INFO - 🔄 طلب توليد صورة للبرومبت: As we follow his footsteps, we see him rally his p...\n",
            "2025-01-04 10:22:29,062 - ERROR - ❌ فشل توليد الصورة: 500, {\"error\":\"Internal Server Error\"}\n",
            "2025-01-04 10:22:29,063 - ERROR - ⚠️ خطأ غير معروف أثناء توليد الصورة باستخدام API key #1. سيتم المحاولة مجددًا.\n",
            "2025-01-04 10:22:29,064 - INFO - 🔄 استخدام API key #2 للمحاولة: \"As we follow his footsteps, we see him rally his p...\"\n",
            "2025-01-04 10:22:29,064 - INFO - 🔄 طلب توليد صورة للبرومبت: As we follow his footsteps, we see him rally his p...\n",
            "2025-01-04 10:23:24,561 - INFO - ✅ تم توليد الصورة بنجاح.\n",
            "2025-01-04 10:23:24,562 - INFO - ✅ تم توليد الصورة باستخدام API key #2.\n",
            "2025-01-04 10:23:24,698 - INFO - 🔄 تم تغيير حجم الصورة إلى 1080x1920\n",
            "2025-01-04 10:23:25,782 - INFO - ✅ تم حفظ الصورة: /content/drive/MyDrive/YouTubeGen Pro 3/OUTPUT/Generated_Images/prompt_2/image_2.png\n",
            "2025-01-04 10:23:25,786 - INFO - ✅ جميع العمليات اكتملت بنجاح.\n"
          ]
        }
      ]
    },
    {
      "cell_type": "code",
      "source": [
        "!python \"/content/drive/MyDrive/YouTubeGen Pro 3/Models/4 Generate Tashkeel.py\""
      ],
      "metadata": {
        "colab": {
          "base_uri": "https://localhost:8080/"
        },
        "id": "3L_m2HHVj3tQ",
        "outputId": "654cfe7a-a5a6-4c9c-8a70-f1df306df819",
        "collapsed": true
      },
      "execution_count": 49,
      "outputs": [
        {
          "output_type": "stream",
          "name": "stdout",
          "text": [
            "Processed and saved: /content/drive/MyDrive/YouTubeGen Pro 3/OUTPUT/Pro Out tashkeel/sentence_1.txt\n",
            "Processed and saved: /content/drive/MyDrive/YouTubeGen Pro 3/OUTPUT/Pro Out tashkeel/sentence_2.txt\n",
            "All files have been processed and saved.\n",
            "WARNING: All log messages before absl::InitializeLog() is called are written to STDERR\n",
            "E0000 00:00:1735986219.055233   16958 init.cc:229] grpc_wait_for_shutdown_with_timeout() timed out.\n"
          ]
        }
      ]
    },
    {
      "cell_type": "code",
      "source": [
        "!python \"/content/drive/MyDrive/YouTubeGen Pro 3/Models/5 Generate Audio.py\""
      ],
      "metadata": {
        "colab": {
          "base_uri": "https://localhost:8080/"
        },
        "collapsed": true,
        "id": "jbjn4r7ztj0M",
        "outputId": "0ac8061f-9a4d-4295-f9aa-64a3f9479714"
      },
      "execution_count": 50,
      "outputs": [
        {
          "output_type": "stream",
          "name": "stdout",
          "text": [
            "2025-01-04 10:23:53,846 - INFO - 🚀 بدء تحميل نموذج Whisper من الإنترنت، الرجاء الانتظار...\n",
            "\u001b[0m2025-01-04 10:24:52,382 - INFO - ✅ تم تحميل نموذج Whisper بنجاح!\n",
            "\u001b[0m2025-01-04 10:24:52,397 - DEBUG - 🔍 تم تحميل الأصوات: ['ar-SA-HamedNeural', 'ar-SA-ZariyahNeural', 'ar-EG-SalmaNeural', 'ar-EG-ShakirNeural', 'ar-AE-FatimaNeural', 'ar-AE-HamdanNeural', 'ar-KW-FahedNeural', 'ar-KW-NouraNeural', 'ar-LB-LaylaNeural', 'ar-LB-RamiNeural', 'ar-MA-JamalNeural', 'ar-MA-MounaNeural', 'ar-QA-AmalNeural', 'ar-QA-MoazNeural', 'ar-SY-AmanyNeural', 'ar-SY-LaithNeural', 'ar-TN-HediNeural', 'ar-TN-ReemNeural', '(ar-DZ, AminaNeural), Locale: ar-DZ, Gender: Female', '(ar-DZ, IsmaelNeural), Locale: ar-DZ, Gender: Male', '(ar-BH, AliNeural), Locale: ar-BH, Gender: Male', '(ar-BH, LailaNeural), Locale: ar-BH, Gender: Female', '(ar-EG, SalmaNeural), Locale: ar-EG, Gender: Female', '(ar-EG, ShakirNeural), Locale: ar-EG, Gender: Male', '(ar-IQ, BasselNeural), Locale: ar-IQ, Gender: Male', '(ar-IQ, RanaNeural), Locale: ar-IQ, Gender: Female', '(ar-JO, SanaNeural), Locale: ar-JO, Gender: Female', '(ar-JO, TaimNeural), Locale: ar-JO, Gender: Male', '(ar-KW, FahedNeural), Locale: ar-KW, Gender: Male', '(ar-KW, NouraNeural), Locale: ar-KW, Gender: Female', '(ar-LB, LaylaNeural), Locale: ar-LB, Gender: Female', '(ar-LB, RamiNeural), Locale: ar-LB, Gender: Male', '(ar-LY, ImanNeural), Locale: ar-LY, Gender: Female', '(ar-LY, OmarNeural), Locale: ar-LY, Gender: Male', '(ar-MA, JamalNeural), Locale: ar-MA, Gender: Male', '(ar-MA, MounaNeural), Locale: ar-MA, Gender: Female', '(ar-OM, AbdullahNeural), Locale: ar-OM, Gender: Male', '(ar-OM, AyshaNeural), Locale: ar-OM, Gender: Female', '(ar-QA, AmalNeural), Locale: ar-QA, Gender: Female', '(ar-QA, MoazNeural), Locale: ar-QA, Gender: Male', '(ar-SA, HamedNeural), Locale: ar-SA, Gender: Male', '(ar-SA, ZariyahNeural), Locale: ar-SA, Gender: Female', '(ar-SY, AmanyNeural), Locale: ar-SY, Gender: Female', '(ar-SY, LaithNeural), Locale: ar-SY, Gender: Male', '(ar-TN, HediNeural), Locale: ar-TN, Gender: Male', '(ar-TN, ReemNeural), Locale: ar-TN, Gender: Female', '(ar-AE, FatimaNeural), Locale: ar-AE, Gender: Female', '(ar-AE, HamdanNeural), Locale: ar-AE, Gender: Male', '(ar-YE, MaryamNeural), Locale: ar-YE, Gender: Female', '(ar-YE, SalehNeural), Locale: ar-YE, Gender: Male']\n",
            "\u001b[0m2025-01-04 10:24:52,397 - INFO - ✅ تم اختيار الصوت رقم 1: ar-SA-HamedNeural\n",
            "\u001b[0m2025-01-04 10:24:52,397 - INFO - 📊 تم تعيين سرعة الصوت إلى: 0.9x\n",
            "\u001b[0m2025-01-04 10:24:52,401 - INFO - 🔄 مسح جميع الملفات القديمة داخل المجلد الرئيسي والمجلدات الفرعية...\n",
            "\u001b[0m2025-01-04 10:24:52,409 - INFO - 🗑️ تم حذف الملف: /content/drive/MyDrive/YouTubeGen Pro 3/OUTPUT/Pro Output Sound/prompt_1.mp3\n",
            "\u001b[0m2025-01-04 10:24:52,410 - INFO - ✅ تم مسح جميع الملفات القديمة.\n",
            "\u001b[0m2025-01-04 10:24:52,431 - DEBUG - Using selector: EpollSelector\n",
            "\u001b[0m2025-01-04 10:24:52,436 - DEBUG - 📄 تم تحميل النص من /content/drive/MyDrive/YouTubeGen Pro 3/OUTPUT/Pro Out tashkeel/sentence_1.txt: مرْحَباً بِكُمْ فِي قِصَّتِنَا الْيَوْمِ عَنْ شَخْصِيَّةٍ تَارِيْخِيَّةٍ مُؤَثِّرَةٍ، الرَّئِيْسُ الأَمْرِيْكِيُّ الأَسْبَقُ، أَبْرَاهَامُ لِيْنْكُولْنُ.\n",
            "\u001b[0m2025-01-04 10:24:52,437 - INFO - 🔄 بدء توليد الصوت من الملف: sentence_1.txt\n",
            "\u001b[0m2025-01-04 10:24:52,437 - INFO - 🔄 بدء توليد الصوت باستخدام ar-SA-HamedNeural... سرعة: 0.9\n",
            "\u001b[0m2025-01-04 10:24:52,437 - DEBUG - 🔄 النص المرسل إلى TTS: مرْحَباً بِكُمْ فِي قِصَّتِنَا الْيَوْمِ عَنْ شَخْصِيَّةٍ تَارِيْخِيَّةٍ مُؤَثِّرَةٍ، الرَّئِيْسُ الأَمْرِيْكِيُّ الأَسْبَقُ، أَبْرَاهَامُ لِيْنْكُولْنُ.\n",
            "\u001b[0m2025-01-04 10:24:53,655 - INFO - ✅ تم حفظ الملف الصوتي بنجاح: /content/drive/MyDrive/YouTubeGen Pro 3/OUTPUT/Pro Output Sound/prompt_1.mp3\n",
            "\u001b[0m2025-01-04 10:24:53,656 - INFO - 🔄 بدء تحليل الصوت باستخدام Whisper...\n",
            "100% 991/991 [01:27<00:00, 11.34frames/s]\u001b[0m\n",
            "2025-01-04 10:26:23,029 - INFO - 🔄 دمج المقاطع بحيث يحتوي كل مقطع على 10 كلمات.\n",
            "\u001b[0m2025-01-04 10:26:23,029 - INFO - ✅ تم تقسيم النصوص إلى 2 مقاطع تحتوي على 10 كلمات لكل مقطع.\n",
            "\u001b[0m2025-01-04 10:26:23,047 - INFO - ✅ تم حفظ ملف SRT بنجاح: /content/drive/MyDrive/YouTubeGen Pro 3/OUTPUT/Pro Output Sound/SRT_Folder/prompt_1.srt\n",
            "\u001b[0m2025-01-04 10:26:23,057 - DEBUG - 📄 تم تحميل النص من /content/drive/MyDrive/YouTubeGen Pro 3/OUTPUT/Pro Out tashkeel/sentence_2.txt: انضمُّوا إلينَا فِي رَحلَةٍ عَبرَ حَياةِ هَذَا القَائِدِ الاستِثنَائِيِّ، الذي قَادَ الأُمَّةَ خِلالَ الحَربِ الأهْلِيَّةِ الأميركيَّةِ، وَأَلغَى العُبُودِيَّةَ، وَشَكَّلَ مُستَقبَلَ الوِلايَاتِ المُتَّحِدَة.\n",
            "\u001b[0m2025-01-04 10:26:23,058 - INFO - 🔄 بدء توليد الصوت من الملف: sentence_2.txt\n",
            "\u001b[0m2025-01-04 10:26:23,058 - INFO - 🔄 بدء توليد الصوت باستخدام ar-SA-HamedNeural... سرعة: 0.9\n",
            "\u001b[0m2025-01-04 10:26:23,058 - DEBUG - 🔄 النص المرسل إلى TTS: انضمُّوا إلينَا فِي رَحلَةٍ عَبرَ حَياةِ هَذَا القَائِدِ الاستِثنَائِيِّ، الذي قَادَ الأُمَّةَ خِلالَ الحَربِ الأهْلِيَّةِ الأميركيَّةِ، وَأَلغَى العُبُودِيَّةَ، وَشَكَّلَ مُستَقبَلَ الوِلايَاتِ المُتَّحِدَة.\n",
            "\u001b[0m2025-01-04 10:26:24,415 - INFO - ✅ تم حفظ الملف الصوتي بنجاح: /content/drive/MyDrive/YouTubeGen Pro 3/OUTPUT/Pro Output Sound/prompt_2.mp3\n",
            "\u001b[0m2025-01-04 10:26:24,416 - INFO - 🔄 بدء تحليل الصوت باستخدام Whisper...\n",
            "100% 1413/1413 [01:34<00:00, 14.93frames/s]\u001b[0m\n",
            "2025-01-04 10:27:59,253 - INFO - 🔄 دمج المقاطع بحيث يحتوي كل مقطع على 10 كلمات.\n",
            "\u001b[0m2025-01-04 10:27:59,254 - INFO - ✅ تم تقسيم النصوص إلى 3 مقاطع تحتوي على 10 كلمات لكل مقطع.\n",
            "\u001b[0m2025-01-04 10:27:59,268 - INFO - ✅ تم حفظ ملف SRT بنجاح: /content/drive/MyDrive/YouTubeGen Pro 3/OUTPUT/Pro Output Sound/SRT_Folder/prompt_2.srt\n",
            "\u001b[0m2025-01-04 10:27:59,273 - INFO - 🎉 تم إتمام جميع العمليات بنجاح.\n",
            "\u001b[0m\u001b[0m\u001b[0m"
          ]
        }
      ]
    },
    {
      "cell_type": "code",
      "source": [
        "!python \"/content/drive/MyDrive/YouTubeGen Pro 3/Models/6 Generate Video 1.py\""
      ],
      "metadata": {
        "colab": {
          "base_uri": "https://localhost:8080/"
        },
        "collapsed": true,
        "id": "swufDJipx2dO",
        "outputId": "932f1ccf-d986-4dfa-ad1a-142a81e28576"
      },
      "execution_count": 51,
      "outputs": [
        {
          "output_type": "stream",
          "name": "stdout",
          "text": [
            "ALSA lib confmisc.c:855:(parse_card) cannot find card '0'\n",
            "ALSA lib conf.c:5178:(_snd_config_evaluate) function snd_func_card_inum returned error: No such file or directory\n",
            "ALSA lib confmisc.c:422:(snd_func_concat) error evaluating strings\n",
            "ALSA lib conf.c:5178:(_snd_config_evaluate) function snd_func_concat returned error: No such file or directory\n",
            "ALSA lib confmisc.c:1334:(snd_func_refer) error evaluating name\n",
            "ALSA lib conf.c:5178:(_snd_config_evaluate) function snd_func_refer returned error: No such file or directory\n",
            "ALSA lib conf.c:5701:(snd_config_expand) Evaluate error: No such file or directory\n",
            "ALSA lib pcm.c:2664:(snd_pcm_open_noupdate) Unknown PCM default\n",
            "ALSA lib confmisc.c:855:(parse_card) cannot find card '0'\n",
            "ALSA lib conf.c:5178:(_snd_config_evaluate) function snd_func_card_inum returned error: No such file or directory\n",
            "ALSA lib confmisc.c:422:(snd_func_concat) error evaluating strings\n",
            "ALSA lib conf.c:5178:(_snd_config_evaluate) function snd_func_concat returned error: No such file or directory\n",
            "ALSA lib confmisc.c:1334:(snd_func_refer) error evaluating name\n",
            "ALSA lib conf.c:5178:(_snd_config_evaluate) function snd_func_refer returned error: No such file or directory\n",
            "ALSA lib conf.c:5701:(snd_config_expand) Evaluate error: No such file or directory\n",
            "ALSA lib pcm.c:2664:(snd_pcm_open_noupdate) Unknown PCM default\n",
            "2025-01-04 10:28:10,298 - INFO - بدء عملية إنشاء الفيديوهات من الصور والصوت.\n",
            "\u001b[0m2025-01-04 10:28:10,304 - INFO - 🗑️ تم حذف ملف الفيديو: /content/drive/MyDrive/YouTubeGen Pro 3/OUTPUT/Final_Videos/prompt_1_final_video.mp4\n",
            "\u001b[0m2025-01-04 10:28:10,305 - INFO - ✅ تم مسح جميع ملفات الفيديو القديمة.\n",
            "\u001b[0m2025-01-04 10:28:10,307 - INFO - تم العثور على المجلدات الفرعية: ['prompt_1', 'prompt_2']\n",
            "\u001b[0m2025-01-04 10:28:10,307 - INFO - 🛠️ محاولة 1/10 لمعالجة المجلد 'prompt_1'.\n",
            "\u001b[0m2025-01-04 10:28:10,309 - INFO - 🔄 بدء إنشاء الفيديو للمجلد: prompt_1 مع 2 صورة.\n",
            "\u001b[0m2025-01-04 10:28:10,568 - INFO - تطبيق المؤثر 'zoom_out' على المقطع.\n",
            "\u001b[0m2025-01-04 10:28:10,925 - INFO - تطبيق المؤثر 'brightness_increase' على المقطع.\n",
            "\u001b[0m2025-01-04 10:28:34,990 - INFO - ✅ تم إنشاء الفيديو بنجاح للمجلد 'prompt_1' في '/content/drive/MyDrive/YouTubeGen Pro 3/OUTPUT/Final_Videos/prompt_1_final_video.mp4'.\n",
            "\u001b[0m2025-01-04 10:28:34,990 - INFO - 🛠️ محاولة 1/10 لمعالجة المجلد 'prompt_2'.\n",
            "\u001b[0m2025-01-04 10:28:34,991 - INFO - 🔄 بدء إنشاء الفيديو للمجلد: prompt_2 مع 2 صورة.\n",
            "\u001b[0m2025-01-04 10:28:35,129 - INFO - تطبيق المؤثر 'blur' على المقطع.\n",
            "\u001b[0m2025-01-04 10:28:35,600 - INFO - تطبيق المؤثر 'flip_vertical' على المقطع.\n",
            "\u001b[0m2025-01-04 10:28:35,600 - WARNING - ⚠️ المؤثر 'flip_vertical' غير معروف. سيتم عرض الصورة بدون مؤثر.\n",
            "\u001b[0m2025-01-04 10:29:01,894 - INFO - ✅ تم إنشاء الفيديو بنجاح للمجلد 'prompt_2' في '/content/drive/MyDrive/YouTubeGen Pro 3/OUTPUT/Final_Videos/prompt_2_final_video.mp4'.\n",
            "\u001b[0m2025-01-04 10:29:01,894 - INFO - 🎉 تم إتمام جميع عمليات إنشاء الفيديوهات بنجاح.\n",
            "\u001b[0m\u001b[0m"
          ]
        }
      ]
    },
    {
      "cell_type": "code",
      "source": [
        "!apt-get install imagemagick"
      ],
      "metadata": {
        "colab": {
          "base_uri": "https://localhost:8080/"
        },
        "collapsed": true,
        "id": "FpihYvod5oqi",
        "outputId": "c55d1c25-d5c4-49d6-bb43-bb0310682d4b"
      },
      "execution_count": 60,
      "outputs": [
        {
          "output_type": "stream",
          "name": "stdout",
          "text": [
            "Reading package lists... Done\n",
            "Building dependency tree... Done\n",
            "Reading state information... Done\n",
            "The following additional packages will be installed:\n",
            "  fonts-droid-fallback fonts-noto-mono fonts-urw-base35 ghostscript gsfonts imagemagick-6-common\n",
            "  imagemagick-6.q16 libdjvulibre-text libdjvulibre21 libfftw3-double3 libgs9 libgs9-common libidn12\n",
            "  libijs-0.35 libjbig2dec0 libjxr-tools libjxr0 liblqr-1-0 libmagickcore-6.q16-6\n",
            "  libmagickcore-6.q16-6-extra libmagickwand-6.q16-6 libnetpbm10 libwmflite-0.2-7 netpbm\n",
            "  poppler-data\n",
            "Suggested packages:\n",
            "  fonts-noto fonts-freefont-otf | fonts-freefont-ttf fonts-texgyre ghostscript-x imagemagick-doc\n",
            "  autotrace cups-bsd | lpr | lprng enscript gimp gnuplot grads hp2xx html2ps libwmf-bin mplayer\n",
            "  povray radiance sane-utils texlive-base-bin transfig ufraw-batch libfftw3-bin libfftw3-dev\n",
            "  inkscape poppler-utils fonts-japanese-mincho | fonts-ipafont-mincho fonts-japanese-gothic\n",
            "  | fonts-ipafont-gothic fonts-arphic-ukai fonts-arphic-uming fonts-nanum\n",
            "The following NEW packages will be installed:\n",
            "  fonts-droid-fallback fonts-noto-mono fonts-urw-base35 ghostscript gsfonts imagemagick\n",
            "  imagemagick-6-common imagemagick-6.q16 libdjvulibre-text libdjvulibre21 libfftw3-double3 libgs9\n",
            "  libgs9-common libidn12 libijs-0.35 libjbig2dec0 libjxr-tools libjxr0 liblqr-1-0\n",
            "  libmagickcore-6.q16-6 libmagickcore-6.q16-6-extra libmagickwand-6.q16-6 libnetpbm10\n",
            "  libwmflite-0.2-7 netpbm poppler-data\n",
            "0 upgraded, 26 newly installed, 0 to remove and 49 not upgraded.\n",
            "Need to get 25.1 MB of archives.\n",
            "After this operation, 87.9 MB of additional disk space will be used.\n",
            "Get:1 http://archive.ubuntu.com/ubuntu jammy/main amd64 fonts-droid-fallback all 1:6.0.1r16-1.1build1 [1,805 kB]\n",
            "Get:2 http://archive.ubuntu.com/ubuntu jammy/main amd64 libfftw3-double3 amd64 3.3.8-2ubuntu8 [770 kB]\n",
            "Get:3 http://archive.ubuntu.com/ubuntu jammy/universe amd64 liblqr-1-0 amd64 0.4.2-2.1 [27.7 kB]\n",
            "Get:4 http://archive.ubuntu.com/ubuntu jammy-updates/universe amd64 imagemagick-6-common all 8:6.9.11.60+dfsg-1.3ubuntu0.22.04.5 [64.3 kB]\n",
            "Get:5 http://archive.ubuntu.com/ubuntu jammy-updates/universe amd64 libmagickcore-6.q16-6 amd64 8:6.9.11.60+dfsg-1.3ubuntu0.22.04.5 [1,795 kB]\n",
            "Get:6 http://archive.ubuntu.com/ubuntu jammy-updates/universe amd64 libmagickwand-6.q16-6 amd64 8:6.9.11.60+dfsg-1.3ubuntu0.22.04.5 [328 kB]\n",
            "Get:7 http://archive.ubuntu.com/ubuntu jammy/main amd64 poppler-data all 0.4.11-1 [2,171 kB]\n",
            "Get:8 http://archive.ubuntu.com/ubuntu jammy/main amd64 fonts-noto-mono all 20201225-1build1 [397 kB]\n",
            "Get:9 http://archive.ubuntu.com/ubuntu jammy/main amd64 fonts-urw-base35 all 20200910-1 [6,367 kB]\n",
            "Get:10 http://archive.ubuntu.com/ubuntu jammy-updates/main amd64 libgs9-common all 9.55.0~dfsg1-0ubuntu5.10 [752 kB]\n",
            "Get:11 http://archive.ubuntu.com/ubuntu jammy-updates/main amd64 libidn12 amd64 1.38-4ubuntu1 [60.0 kB]\n",
            "Get:12 http://archive.ubuntu.com/ubuntu jammy/main amd64 libijs-0.35 amd64 0.35-15build2 [16.5 kB]\n",
            "Get:13 http://archive.ubuntu.com/ubuntu jammy/main amd64 libjbig2dec0 amd64 0.19-3build2 [64.7 kB]\n",
            "Get:14 http://archive.ubuntu.com/ubuntu jammy-updates/main amd64 libgs9 amd64 9.55.0~dfsg1-0ubuntu5.10 [5,031 kB]\n",
            "Get:15 http://archive.ubuntu.com/ubuntu jammy-updates/main amd64 ghostscript amd64 9.55.0~dfsg1-0ubuntu5.10 [49.4 kB]\n",
            "Get:16 http://archive.ubuntu.com/ubuntu jammy/universe amd64 gsfonts all 1:8.11+urwcyr1.0.7~pre44-4.5 [3,120 kB]\n",
            "Get:17 http://archive.ubuntu.com/ubuntu jammy-updates/universe amd64 imagemagick-6.q16 amd64 8:6.9.11.60+dfsg-1.3ubuntu0.22.04.5 [224 kB]\n",
            "Get:18 http://archive.ubuntu.com/ubuntu jammy-updates/universe amd64 imagemagick amd64 8:6.9.11.60+dfsg-1.3ubuntu0.22.04.5 [14.6 kB]\n",
            "Get:19 http://archive.ubuntu.com/ubuntu jammy/main amd64 libdjvulibre-text all 3.5.28-2build2 [50.9 kB]\n",
            "Get:20 http://archive.ubuntu.com/ubuntu jammy/main amd64 libdjvulibre21 amd64 3.5.28-2build2 [624 kB]\n",
            "Get:21 http://archive.ubuntu.com/ubuntu jammy/universe amd64 libjxr0 amd64 1.2~git20170615.f752187-5 [174 kB]\n",
            "Get:22 http://archive.ubuntu.com/ubuntu jammy/universe amd64 libjxr-tools amd64 1.2~git20170615.f752187-5 [16.0 kB]\n",
            "Get:23 http://archive.ubuntu.com/ubuntu jammy/main amd64 libwmflite-0.2-7 amd64 0.2.12-5ubuntu1 [68.9 kB]\n",
            "Get:24 http://archive.ubuntu.com/ubuntu jammy-updates/universe amd64 libmagickcore-6.q16-6-extra amd64 8:6.9.11.60+dfsg-1.3ubuntu0.22.04.5 [70.1 kB]\n",
            "Get:25 http://archive.ubuntu.com/ubuntu jammy/universe amd64 libnetpbm10 amd64 2:10.0-15.4 [59.1 kB]\n",
            "Get:26 http://archive.ubuntu.com/ubuntu jammy/universe amd64 netpbm amd64 2:10.0-15.4 [1,007 kB]\n",
            "Fetched 25.1 MB in 1s (41.4 MB/s)\n",
            "Selecting previously unselected package fonts-droid-fallback.\n",
            "(Reading database ... 123634 files and directories currently installed.)\n",
            "Preparing to unpack .../00-fonts-droid-fallback_1%3a6.0.1r16-1.1build1_all.deb ...\n",
            "Unpacking fonts-droid-fallback (1:6.0.1r16-1.1build1) ...\n",
            "Selecting previously unselected package libfftw3-double3:amd64.\n",
            "Preparing to unpack .../01-libfftw3-double3_3.3.8-2ubuntu8_amd64.deb ...\n",
            "Unpacking libfftw3-double3:amd64 (3.3.8-2ubuntu8) ...\n",
            "Selecting previously unselected package liblqr-1-0:amd64.\n",
            "Preparing to unpack .../02-liblqr-1-0_0.4.2-2.1_amd64.deb ...\n",
            "Unpacking liblqr-1-0:amd64 (0.4.2-2.1) ...\n",
            "Selecting previously unselected package imagemagick-6-common.\n",
            "Preparing to unpack .../03-imagemagick-6-common_8%3a6.9.11.60+dfsg-1.3ubuntu0.22.04.5_all.deb ...\n",
            "Unpacking imagemagick-6-common (8:6.9.11.60+dfsg-1.3ubuntu0.22.04.5) ...\n",
            "Selecting previously unselected package libmagickcore-6.q16-6:amd64.\n",
            "Preparing to unpack .../04-libmagickcore-6.q16-6_8%3a6.9.11.60+dfsg-1.3ubuntu0.22.04.5_amd64.deb ...\n",
            "Unpacking libmagickcore-6.q16-6:amd64 (8:6.9.11.60+dfsg-1.3ubuntu0.22.04.5) ...\n",
            "Selecting previously unselected package libmagickwand-6.q16-6:amd64.\n",
            "Preparing to unpack .../05-libmagickwand-6.q16-6_8%3a6.9.11.60+dfsg-1.3ubuntu0.22.04.5_amd64.deb ...\n",
            "Unpacking libmagickwand-6.q16-6:amd64 (8:6.9.11.60+dfsg-1.3ubuntu0.22.04.5) ...\n",
            "Selecting previously unselected package poppler-data.\n",
            "Preparing to unpack .../06-poppler-data_0.4.11-1_all.deb ...\n",
            "Unpacking poppler-data (0.4.11-1) ...\n",
            "Selecting previously unselected package fonts-noto-mono.\n",
            "Preparing to unpack .../07-fonts-noto-mono_20201225-1build1_all.deb ...\n",
            "Unpacking fonts-noto-mono (20201225-1build1) ...\n",
            "Selecting previously unselected package fonts-urw-base35.\n",
            "Preparing to unpack .../08-fonts-urw-base35_20200910-1_all.deb ...\n",
            "Unpacking fonts-urw-base35 (20200910-1) ...\n",
            "Selecting previously unselected package libgs9-common.\n",
            "Preparing to unpack .../09-libgs9-common_9.55.0~dfsg1-0ubuntu5.10_all.deb ...\n",
            "Unpacking libgs9-common (9.55.0~dfsg1-0ubuntu5.10) ...\n",
            "Selecting previously unselected package libidn12:amd64.\n",
            "Preparing to unpack .../10-libidn12_1.38-4ubuntu1_amd64.deb ...\n",
            "Unpacking libidn12:amd64 (1.38-4ubuntu1) ...\n",
            "Selecting previously unselected package libijs-0.35:amd64.\n",
            "Preparing to unpack .../11-libijs-0.35_0.35-15build2_amd64.deb ...\n",
            "Unpacking libijs-0.35:amd64 (0.35-15build2) ...\n",
            "Selecting previously unselected package libjbig2dec0:amd64.\n",
            "Preparing to unpack .../12-libjbig2dec0_0.19-3build2_amd64.deb ...\n",
            "Unpacking libjbig2dec0:amd64 (0.19-3build2) ...\n",
            "Selecting previously unselected package libgs9:amd64.\n",
            "Preparing to unpack .../13-libgs9_9.55.0~dfsg1-0ubuntu5.10_amd64.deb ...\n",
            "Unpacking libgs9:amd64 (9.55.0~dfsg1-0ubuntu5.10) ...\n",
            "Selecting previously unselected package ghostscript.\n",
            "Preparing to unpack .../14-ghostscript_9.55.0~dfsg1-0ubuntu5.10_amd64.deb ...\n",
            "Unpacking ghostscript (9.55.0~dfsg1-0ubuntu5.10) ...\n",
            "Selecting previously unselected package gsfonts.\n",
            "Preparing to unpack .../15-gsfonts_1%3a8.11+urwcyr1.0.7~pre44-4.5_all.deb ...\n",
            "Unpacking gsfonts (1:8.11+urwcyr1.0.7~pre44-4.5) ...\n",
            "Selecting previously unselected package imagemagick-6.q16.\n",
            "Preparing to unpack .../16-imagemagick-6.q16_8%3a6.9.11.60+dfsg-1.3ubuntu0.22.04.5_amd64.deb ...\n",
            "Unpacking imagemagick-6.q16 (8:6.9.11.60+dfsg-1.3ubuntu0.22.04.5) ...\n",
            "Selecting previously unselected package imagemagick.\n",
            "Preparing to unpack .../17-imagemagick_8%3a6.9.11.60+dfsg-1.3ubuntu0.22.04.5_amd64.deb ...\n",
            "Unpacking imagemagick (8:6.9.11.60+dfsg-1.3ubuntu0.22.04.5) ...\n",
            "Selecting previously unselected package libdjvulibre-text.\n",
            "Preparing to unpack .../18-libdjvulibre-text_3.5.28-2build2_all.deb ...\n",
            "Unpacking libdjvulibre-text (3.5.28-2build2) ...\n",
            "Selecting previously unselected package libdjvulibre21:amd64.\n",
            "Preparing to unpack .../19-libdjvulibre21_3.5.28-2build2_amd64.deb ...\n",
            "Unpacking libdjvulibre21:amd64 (3.5.28-2build2) ...\n",
            "Selecting previously unselected package libjxr0:amd64.\n",
            "Preparing to unpack .../20-libjxr0_1.2~git20170615.f752187-5_amd64.deb ...\n",
            "Unpacking libjxr0:amd64 (1.2~git20170615.f752187-5) ...\n",
            "Selecting previously unselected package libjxr-tools.\n",
            "Preparing to unpack .../21-libjxr-tools_1.2~git20170615.f752187-5_amd64.deb ...\n",
            "Unpacking libjxr-tools (1.2~git20170615.f752187-5) ...\n",
            "Selecting previously unselected package libwmflite-0.2-7:amd64.\n",
            "Preparing to unpack .../22-libwmflite-0.2-7_0.2.12-5ubuntu1_amd64.deb ...\n",
            "Unpacking libwmflite-0.2-7:amd64 (0.2.12-5ubuntu1) ...\n",
            "Selecting previously unselected package libmagickcore-6.q16-6-extra:amd64.\n",
            "Preparing to unpack .../23-libmagickcore-6.q16-6-extra_8%3a6.9.11.60+dfsg-1.3ubuntu0.22.04.5_amd64.deb ...\n",
            "Unpacking libmagickcore-6.q16-6-extra:amd64 (8:6.9.11.60+dfsg-1.3ubuntu0.22.04.5) ...\n",
            "Selecting previously unselected package libnetpbm10.\n",
            "Preparing to unpack .../24-libnetpbm10_2%3a10.0-15.4_amd64.deb ...\n",
            "Unpacking libnetpbm10 (2:10.0-15.4) ...\n",
            "Selecting previously unselected package netpbm.\n",
            "Preparing to unpack .../25-netpbm_2%3a10.0-15.4_amd64.deb ...\n",
            "Unpacking netpbm (2:10.0-15.4) ...\n",
            "Setting up imagemagick-6-common (8:6.9.11.60+dfsg-1.3ubuntu0.22.04.5) ...\n",
            "Setting up fonts-noto-mono (20201225-1build1) ...\n",
            "Setting up libwmflite-0.2-7:amd64 (0.2.12-5ubuntu1) ...\n",
            "Setting up libijs-0.35:amd64 (0.35-15build2) ...\n",
            "Setting up libjxr0:amd64 (1.2~git20170615.f752187-5) ...\n",
            "Setting up libnetpbm10 (2:10.0-15.4) ...\n",
            "Setting up fonts-urw-base35 (20200910-1) ...\n",
            "Setting up poppler-data (0.4.11-1) ...\n",
            "Setting up libjbig2dec0:amd64 (0.19-3build2) ...\n",
            "Setting up gsfonts (1:8.11+urwcyr1.0.7~pre44-4.5) ...\n",
            "Setting up libidn12:amd64 (1.38-4ubuntu1) ...\n",
            "Setting up netpbm (2:10.0-15.4) ...\n",
            "Setting up libfftw3-double3:amd64 (3.3.8-2ubuntu8) ...\n",
            "Setting up liblqr-1-0:amd64 (0.4.2-2.1) ...\n",
            "Setting up fonts-droid-fallback (1:6.0.1r16-1.1build1) ...\n",
            "Setting up libdjvulibre-text (3.5.28-2build2) ...\n",
            "Setting up libgs9-common (9.55.0~dfsg1-0ubuntu5.10) ...\n",
            "Setting up libjxr-tools (1.2~git20170615.f752187-5) ...\n",
            "Setting up libgs9:amd64 (9.55.0~dfsg1-0ubuntu5.10) ...\n",
            "Setting up libdjvulibre21:amd64 (3.5.28-2build2) ...\n",
            "Setting up ghostscript (9.55.0~dfsg1-0ubuntu5.10) ...\n",
            "Setting up libmagickcore-6.q16-6:amd64 (8:6.9.11.60+dfsg-1.3ubuntu0.22.04.5) ...\n",
            "Setting up libmagickwand-6.q16-6:amd64 (8:6.9.11.60+dfsg-1.3ubuntu0.22.04.5) ...\n",
            "Setting up libmagickcore-6.q16-6-extra:amd64 (8:6.9.11.60+dfsg-1.3ubuntu0.22.04.5) ...\n",
            "Setting up imagemagick-6.q16 (8:6.9.11.60+dfsg-1.3ubuntu0.22.04.5) ...\n",
            "update-alternatives: using /usr/bin/compare-im6.q16 to provide /usr/bin/compare (compare) in auto mode\n",
            "update-alternatives: using /usr/bin/compare-im6.q16 to provide /usr/bin/compare-im6 (compare-im6) in auto mode\n",
            "update-alternatives: using /usr/bin/animate-im6.q16 to provide /usr/bin/animate (animate) in auto mode\n",
            "update-alternatives: using /usr/bin/animate-im6.q16 to provide /usr/bin/animate-im6 (animate-im6) in auto mode\n",
            "update-alternatives: using /usr/bin/convert-im6.q16 to provide /usr/bin/convert (convert) in auto mode\n",
            "update-alternatives: using /usr/bin/convert-im6.q16 to provide /usr/bin/convert-im6 (convert-im6) in auto mode\n",
            "update-alternatives: using /usr/bin/composite-im6.q16 to provide /usr/bin/composite (composite) in auto mode\n",
            "update-alternatives: using /usr/bin/composite-im6.q16 to provide /usr/bin/composite-im6 (composite-im6) in auto mode\n",
            "update-alternatives: using /usr/bin/conjure-im6.q16 to provide /usr/bin/conjure (conjure) in auto mode\n",
            "update-alternatives: using /usr/bin/conjure-im6.q16 to provide /usr/bin/conjure-im6 (conjure-im6) in auto mode\n",
            "update-alternatives: using /usr/bin/import-im6.q16 to provide /usr/bin/import (import) in auto mode\n",
            "update-alternatives: using /usr/bin/import-im6.q16 to provide /usr/bin/import-im6 (import-im6) in auto mode\n",
            "update-alternatives: using /usr/bin/identify-im6.q16 to provide /usr/bin/identify (identify) in auto mode\n",
            "update-alternatives: using /usr/bin/identify-im6.q16 to provide /usr/bin/identify-im6 (identify-im6) in auto mode\n",
            "update-alternatives: using /usr/bin/stream-im6.q16 to provide /usr/bin/stream (stream) in auto mode\n",
            "update-alternatives: using /usr/bin/stream-im6.q16 to provide /usr/bin/stream-im6 (stream-im6) in auto mode\n",
            "update-alternatives: using /usr/bin/display-im6.q16 to provide /usr/bin/display (display) in auto mode\n",
            "update-alternatives: using /usr/bin/display-im6.q16 to provide /usr/bin/display-im6 (display-im6) in auto mode\n",
            "update-alternatives: using /usr/bin/montage-im6.q16 to provide /usr/bin/montage (montage) in auto mode\n",
            "update-alternatives: using /usr/bin/montage-im6.q16 to provide /usr/bin/montage-im6 (montage-im6) in auto mode\n",
            "update-alternatives: using /usr/bin/mogrify-im6.q16 to provide /usr/bin/mogrify (mogrify) in auto mode\n",
            "update-alternatives: using /usr/bin/mogrify-im6.q16 to provide /usr/bin/mogrify-im6 (mogrify-im6) in auto mode\n",
            "Setting up imagemagick (8:6.9.11.60+dfsg-1.3ubuntu0.22.04.5) ...\n",
            "Processing triggers for hicolor-icon-theme (0.17-2) ...\n",
            "Processing triggers for libc-bin (2.35-0ubuntu3.4) ...\n",
            "/sbin/ldconfig.real: /usr/local/lib/libtbbbind_2_0.so.3 is not a symbolic link\n",
            "\n",
            "/sbin/ldconfig.real: /usr/local/lib/libtcm.so.1 is not a symbolic link\n",
            "\n",
            "/sbin/ldconfig.real: /usr/local/lib/libtbbbind_2_5.so.3 is not a symbolic link\n",
            "\n",
            "/sbin/ldconfig.real: /usr/local/lib/libtbbmalloc.so.2 is not a symbolic link\n",
            "\n",
            "/sbin/ldconfig.real: /usr/local/lib/libhwloc.so.15 is not a symbolic link\n",
            "\n",
            "/sbin/ldconfig.real: /usr/local/lib/libur_adapter_opencl.so.0 is not a symbolic link\n",
            "\n",
            "/sbin/ldconfig.real: /usr/local/lib/libur_adapter_level_zero.so.0 is not a symbolic link\n",
            "\n",
            "/sbin/ldconfig.real: /usr/local/lib/libtcm_debug.so.1 is not a symbolic link\n",
            "\n",
            "/sbin/ldconfig.real: /usr/local/lib/libtbbmalloc_proxy.so.2 is not a symbolic link\n",
            "\n",
            "/sbin/ldconfig.real: /usr/local/lib/libtbbbind.so.3 is not a symbolic link\n",
            "\n",
            "/sbin/ldconfig.real: /usr/local/lib/libtbb.so.12 is not a symbolic link\n",
            "\n",
            "/sbin/ldconfig.real: /usr/local/lib/libur_loader.so.0 is not a symbolic link\n",
            "\n",
            "/sbin/ldconfig.real: /usr/local/lib/libumf.so.0 is not a symbolic link\n",
            "\n",
            "Processing triggers for man-db (2.10.2-1) ...\n",
            "Processing triggers for fontconfig (2.13.1-4.2ubuntu5) ...\n"
          ]
        }
      ]
    },
    {
      "cell_type": "code",
      "source": [
        "# تعديل سياسات أمان ImageMagick للسماح بإنشاء ملفات PNG\n",
        "import os\n",
        "\n",
        "# إنشاء محتوى ملف السياسات الجديد\n",
        "policy_content = '''<?xml version=\"1.0\" encoding=\"UTF-8\"?>\n",
        "<!DOCTYPE policymap [\n",
        "  <!ELEMENT policymap (policy)+>\n",
        "  <!ELEMENT policy (#PCDATA)>\n",
        "  <!ATTLIST policy domain (delegate|coder|filter|path|resource) #IMPLIED>\n",
        "  <!ATTLIST policy name CDATA #IMPLIED>\n",
        "  <!ATTLIST policy rights CDATA #IMPLIED>\n",
        "  <!ATTLIST policy pattern CDATA #IMPLIED>\n",
        "  <!ATTLIST policy value CDATA #IMPLIED>\n",
        "]>\n",
        "<policymap>\n",
        "  <policy domain=\"coder\" rights=\"read|write\" pattern=\"PNG\" />\n",
        "</policymap>'''\n",
        "\n",
        "# كتابة المحتوى إلى ملف السياسات\n",
        "policy_path = \"/etc/ImageMagick-6/policy.xml\"\n",
        "os.makedirs(os.path.dirname(policy_path), exist_ok=True)\n",
        "with open(policy_path, \"w\") as policy_file:\n",
        "    policy_file.write(policy_content)\n",
        "\n",
        "print(\"✅ تم تعديل سياسات أمان ImageMagick بنجاح.\")"
      ],
      "metadata": {
        "colab": {
          "base_uri": "https://localhost:8080/"
        },
        "collapsed": true,
        "id": "KjnawHy9yHmz",
        "outputId": "8cc2355b-9689-4336-9dc8-fee487cb092e"
      },
      "execution_count": 8,
      "outputs": [
        {
          "output_type": "stream",
          "name": "stdout",
          "text": [
            "✅ تم تعديل سياسات أمان ImageMagick بنجاح.\n"
          ]
        }
      ]
    },
    {
      "cell_type": "code",
      "source": [
        "!python \"/content/drive/MyDrive/YouTubeGen Pro 3/Models/7 Generate Video Teranslate 2.py\""
      ],
      "metadata": {
        "colab": {
          "base_uri": "https://localhost:8080/"
        },
        "collapsed": true,
        "id": "c_m1Hpb4yX12",
        "outputId": "6d297b77-3ec9-471b-8506-d7ef87058329"
      },
      "execution_count": 9,
      "outputs": [
        {
          "output_type": "stream",
          "name": "stdout",
          "text": [
            "error: XDG_RUNTIME_DIR not set in the environment.\n",
            "ALSA lib confmisc.c:855:(parse_card) cannot find card '0'\n",
            "ALSA lib conf.c:5178:(_snd_config_evaluate) function snd_func_card_inum returned error: No such file or directory\n",
            "ALSA lib confmisc.c:422:(snd_func_concat) error evaluating strings\n",
            "ALSA lib conf.c:5178:(_snd_config_evaluate) function snd_func_concat returned error: No such file or directory\n",
            "ALSA lib confmisc.c:1334:(snd_func_refer) error evaluating name\n",
            "ALSA lib conf.c:5178:(_snd_config_evaluate) function snd_func_refer returned error: No such file or directory\n",
            "ALSA lib conf.c:5701:(snd_config_expand) Evaluate error: No such file or directory\n",
            "ALSA lib pcm.c:2664:(snd_pcm_open_noupdate) Unknown PCM default\n",
            "ALSA lib confmisc.c:855:(parse_card) cannot find card '0'\n",
            "ALSA lib conf.c:5178:(_snd_config_evaluate) function snd_func_card_inum returned error: No such file or directory\n",
            "ALSA lib confmisc.c:422:(snd_func_concat) error evaluating strings\n",
            "ALSA lib conf.c:5178:(_snd_config_evaluate) function snd_func_concat returned error: No such file or directory\n",
            "ALSA lib confmisc.c:1334:(snd_func_refer) error evaluating name\n",
            "ALSA lib conf.c:5178:(_snd_config_evaluate) function snd_func_refer returned error: No such file or directory\n",
            "ALSA lib conf.c:5701:(snd_config_expand) Evaluate error: No such file or directory\n",
            "ALSA lib pcm.c:2664:(snd_pcm_open_noupdate) Unknown PCM default\n",
            "Get:1 http://security.ubuntu.com/ubuntu jammy-security InRelease [129 kB]\n",
            "Hit:2 https://cloud.r-project.org/bin/linux/ubuntu jammy-cran40/ InRelease\n",
            "Hit:3 http://archive.ubuntu.com/ubuntu jammy InRelease\n",
            "Hit:4 https://r2u.stat.illinois.edu/ubuntu jammy InRelease\n",
            "Get:5 http://archive.ubuntu.com/ubuntu jammy-updates InRelease [128 kB]\n",
            "Hit:6 https://developer.download.nvidia.com/compute/cuda/repos/ubuntu2204/x86_64  InRelease\n",
            "Hit:7 https://ppa.launchpadcontent.net/deadsnakes/ppa/ubuntu jammy InRelease\n",
            "Hit:8 https://ppa.launchpadcontent.net/graphics-drivers/ppa/ubuntu jammy InRelease\n",
            "Hit:9 https://ppa.launchpadcontent.net/ubuntugis/ppa/ubuntu jammy InRelease\n",
            "Get:10 http://archive.ubuntu.com/ubuntu jammy-backports InRelease [127 kB]\n",
            "Fetched 384 kB in 2s (219 kB/s)\n",
            "Reading package lists... Done\n",
            "W: Skipping acquire of configured file 'main/source/Sources' as repository 'https://r2u.stat.illinois.edu/ubuntu jammy InRelease' does not seem to provide it (sources.list entry misspelt?)\n",
            "Reading package lists... Done\n",
            "Building dependency tree... Done\n",
            "Reading state information... Done\n",
            "imagemagick is already the newest version (8:6.9.11.60+dfsg-1.3ubuntu0.22.04.5).\n",
            "0 upgraded, 0 newly installed, 0 to remove and 54 not upgraded.\n",
            "2025-01-04 14:47:14,546 - INFO - 📂 تم العثور على 2 ملف SRT و 2 فيديو.\n",
            "\u001b[0m2025-01-04 14:47:14,547 - INFO - 🔄 مسح جميع ملفات الفيديو القديمة داخل مجلد الإخراج...\n",
            "\u001b[0m2025-01-04 14:47:14,548 - INFO - ✅ تم مسح جميع ملفات الفيديو القديمة.\n",
            "\u001b[0m2025-01-04 14:47:14,549 - INFO - 🎬 معالجة الفيديو: prompt_2_final_video.mp4 مع ملف SRT: prompt_2.srt\n",
            "\u001b[0m2025-01-04 14:47:14,549 - INFO - 🔄 محاولة 1 لمعالجة الفيديو: prompt_2_final_video.mp4\n",
            "\u001b[0m2025-01-04 14:47:14,733 - INFO - ✅ تم تحميل الفيديو: /content/drive/MyDrive/YouTubeGen Pro 3/OUTPUT/Final_Videos/prompt_2_final_video.mp4\n",
            "\u001b[0m2025-01-04 14:47:14,741 - INFO - ✅ تم قراءة ملف SRT: /content/drive/MyDrive/YouTubeGen Pro 3/OUTPUT/Pro Output Sound/SRT_Folder/prompt_2.srt\n",
            "\u001b[0m2025-01-04 14:47:14,741 - INFO - 📏 حجم الفيديو: 1080x1920\n",
            "\u001b[0m2025-01-04 14:47:14,741 - INFO - 📝 إنشاء كليبات الترجمة لـ #1: 'انضموا الينا في رحلة عبر حياة هذا القائد الاستثنائي' من 0.0 إلى 4.58 ثانية.\n",
            "\u001b[0m2025-01-04 14:47:15,129 - INFO - ✅ تم إنشاء TextClip للمجموعة: 'انضموا الينا في' من 0.0 إلى 1.5266666666666666 ثانية.\n",
            "\u001b[0m2025-01-04 14:47:15,130 - INFO - ✅ تم دمج المجموعة مع الفيديو: 'انضموا الينا في'\n",
            "\u001b[0m2025-01-04 14:47:15,384 - INFO - ✅ تم إنشاء TextClip للمجموعة: 'رحلة عبر حياة' من 1.5266666666666666 إلى 3.0533333333333332 ثانية.\n",
            "\u001b[0m2025-01-04 14:47:15,385 - INFO - ✅ تم دمج المجموعة مع الفيديو: 'رحلة عبر حياة'\n",
            "\u001b[0m2025-01-04 14:47:15,736 - INFO - ✅ تم إنشاء TextClip للمجموعة: 'هذا القائد الاستثنائي' من 3.0533333333333332 إلى 4.58 ثانية.\n",
            "\u001b[0m2025-01-04 14:47:15,736 - INFO - ✅ تم دمج المجموعة مع الفيديو: 'هذا القائد الاستثنائي'\n",
            "\u001b[0m2025-01-04 14:47:15,736 - INFO - 📝 إنشاء كليبات الترجمة لـ #2: 'الذي قاد الامة خلال الحرب الاهلية الامريكية' من 4.58 إلى 8.44 ثانية.\n",
            "\u001b[0m2025-01-04 14:47:15,973 - INFO - ✅ تم إنشاء TextClip للمجموعة: 'الذي قاد الامة' من 4.58 إلى 5.866666666666666 ثانية.\n",
            "\u001b[0m2025-01-04 14:47:15,973 - INFO - ✅ تم دمج المجموعة مع الفيديو: 'الذي قاد الامة'\n",
            "\u001b[0m2025-01-04 14:47:16,271 - INFO - ✅ تم إنشاء TextClip للمجموعة: 'خلال الحرب الاهلية' من 5.866666666666666 إلى 7.153333333333332 ثانية.\n",
            "\u001b[0m2025-01-04 14:47:16,272 - INFO - ✅ تم دمج المجموعة مع الفيديو: 'خلال الحرب الاهلية'\n",
            "\u001b[0m2025-01-04 14:47:16,447 - INFO - ✅ تم إنشاء TextClip للمجموعة: 'الامريكية' من 7.153333333333332 إلى 8.44 ثانية.\n",
            "\u001b[0m2025-01-04 14:47:16,447 - INFO - ✅ تم دمج المجموعة مع الفيديو: 'الامريكية'\n",
            "\u001b[0m2025-01-04 14:47:16,447 - INFO - 📝 إنشاء كليبات الترجمة لـ #3: 'والغ العبودية وشكل مستقبل الولايات المتحدة' من 8.44 إلى 13.2 ثانية.\n",
            "\u001b[0m2025-01-04 14:47:16,766 - INFO - ✅ تم إنشاء TextClip للمجموعة: 'والغ العبودية وشكل' من 8.44 إلى 10.82 ثانية.\n",
            "\u001b[0m2025-01-04 14:47:16,767 - INFO - ✅ تم دمج المجموعة مع الفيديو: 'والغ العبودية وشكل'\n",
            "\u001b[0m2025-01-04 14:47:17,140 - INFO - ✅ تم إنشاء TextClip للمجموعة: 'مستقبل الولايات المتحدة' من 10.82 إلى 13.2 ثانية.\n",
            "\u001b[0m2025-01-04 14:47:17,141 - INFO - ✅ تم دمج المجموعة مع الفيديو: 'مستقبل الولايات المتحدة'\n",
            "\u001b[0m2025-01-04 14:47:17,141 - INFO - 🔢 تم إنشاء 8 كليب ترجمة.\n",
            "\u001b[0m2025-01-04 14:47:17,537 - INFO - ✅ تم دمج النصوص مع الفيديو: prompt_2_final_video.mp4\n",
            "\u001b[0m2025-01-04 14:48:24,800 - WARNING - /usr/local/lib/python3.10/dist-packages/moviepy/video/io/ffmpeg_reader.py:123: UserWarning: Warning: in file /content/drive/MyDrive/YouTubeGen Pro 3/OUTPUT/Final_Videos/prompt_2_final_video.mp4, 6220800 bytes wanted but 0 bytes read,at frame 340/341, at time 14.17/14.17 sec. Using the last valid frame instead.\n",
            "  warnings.warn(\"Warning: in file %s, \"%(self.filename)+\n",
            "\n",
            "\u001b[0m2025-01-04 14:48:30,131 - INFO - ✅ تم معالجة الفيديو: prompt_2_final_video وحفظه في '/content/drive/MyDrive/YouTubeGen Pro 3/OUTPUT/Processed_Videos/prompt_2_final_video_processed.mp4'.\n",
            "\u001b[0m2025-01-04 14:48:30,135 - INFO - 🎬 معالجة الفيديو: prompt_1_final_video.mp4 مع ملف SRT: prompt_1.srt\n",
            "\u001b[0m2025-01-04 14:48:30,135 - INFO - 🔄 محاولة 1 لمعالجة الفيديو: prompt_1_final_video.mp4\n",
            "\u001b[0m2025-01-04 14:48:30,318 - INFO - ✅ تم تحميل الفيديو: /content/drive/MyDrive/YouTubeGen Pro 3/OUTPUT/Final_Videos/prompt_1_final_video.mp4\n",
            "\u001b[0m2025-01-04 14:48:30,324 - INFO - ✅ تم قراءة ملف SRT: /content/drive/MyDrive/YouTubeGen Pro 3/OUTPUT/Pro Output Sound/SRT_Folder/prompt_1.srt\n",
            "\u001b[0m2025-01-04 14:48:30,324 - INFO - 📏 حجم الفيديو: 1080x1920\n",
            "\u001b[0m2025-01-04 14:48:30,324 - INFO - 📝 إنشاء كليبات الترجمة لـ #1: 'مرحبا بكم في قصتنا اليوم عن شخصية تاريخية مثرة' من 0.0 إلى 4.82 ثانية.\n",
            "\u001b[0m2025-01-04 14:48:30,551 - INFO - ✅ تم إنشاء TextClip للمجموعة: 'مرحبا بكم في' من 0.0 إلى 1.6066666666666667 ثانية.\n",
            "\u001b[0m2025-01-04 14:48:30,551 - INFO - ✅ تم دمج المجموعة مع الفيديو: 'مرحبا بكم في'\n",
            "\u001b[0m2025-01-04 14:48:30,821 - INFO - ✅ تم إنشاء TextClip للمجموعة: 'قصتنا اليوم عن' من 1.6066666666666667 إلى 3.2133333333333334 ثانية.\n",
            "\u001b[0m2025-01-04 14:48:30,821 - INFO - ✅ تم دمج المجموعة مع الفيديو: 'قصتنا اليوم عن'\n",
            "\u001b[0m2025-01-04 14:48:31,115 - INFO - ✅ تم إنشاء TextClip للمجموعة: 'شخصية تاريخية مثرة' من 3.2133333333333334 إلى 4.82 ثانية.\n",
            "\u001b[0m2025-01-04 14:48:31,116 - INFO - ✅ تم دمج المجموعة مع الفيديو: 'شخصية تاريخية مثرة'\n",
            "\u001b[0m2025-01-04 14:48:31,116 - INFO - 📝 إنشاء كليبات الترجمة لـ #2: 'الرئيس الأمريكي الأسبق أبراهام لينكون' من 4.82 إلى 8.68 ثانية.\n",
            "\u001b[0m2025-01-04 14:48:31,476 - INFO - ✅ تم إنشاء TextClip للمجموعة: 'الرئيس الأمريكي الأسبق' من 4.82 إلى 6.75 ثانية.\n",
            "\u001b[0m2025-01-04 14:48:31,476 - INFO - ✅ تم دمج المجموعة مع الفيديو: 'الرئيس الأمريكي الأسبق'\n",
            "\u001b[0m2025-01-04 14:48:31,747 - INFO - ✅ تم إنشاء TextClip للمجموعة: 'أبراهام لينكون' من 6.75 إلى 8.68 ثانية.\n",
            "\u001b[0m2025-01-04 14:48:31,747 - INFO - ✅ تم دمج المجموعة مع الفيديو: 'أبراهام لينكون'\n",
            "\u001b[0m2025-01-04 14:48:31,747 - INFO - 🔢 تم إنشاء 5 كليب ترجمة.\n",
            "\u001b[0m2025-01-04 14:48:32,074 - INFO - ✅ تم دمج النصوص مع الفيديو: prompt_1_final_video.mp4\n",
            "\u001b[0m2025-01-04 14:49:22,505 - WARNING - /usr/local/lib/python3.10/dist-packages/moviepy/video/io/ffmpeg_reader.py:123: UserWarning: Warning: in file /content/drive/MyDrive/YouTubeGen Pro 3/OUTPUT/Final_Videos/prompt_1_final_video.mp4, 6220800 bytes wanted but 0 bytes read,at frame 238/239, at time 9.92/9.93 sec. Using the last valid frame instead.\n",
            "  warnings.warn(\"Warning: in file %s, \"%(self.filename)+\n",
            "\n",
            "\u001b[0m2025-01-04 14:49:28,439 - INFO - ✅ تم معالجة الفيديو: prompt_1_final_video وحفظه في '/content/drive/MyDrive/YouTubeGen Pro 3/OUTPUT/Processed_Videos/prompt_1_final_video_processed.mp4'.\n",
            "\u001b[0m2025-01-04 14:49:28,443 - INFO - 🎉 اكتملت عملية الدمج ومعالجة جميع الفيديوهات بنجاح.\n",
            "\u001b[0m\u001b[0m"
          ]
        }
      ]
    },
    {
      "cell_type": "code",
      "source": [
        "!python \"/content/drive/MyDrive/YouTubeGen Pro 3/Models/8 Generate Video Final 3.py\""
      ],
      "metadata": {
        "colab": {
          "base_uri": "https://localhost:8080/"
        },
        "collapsed": true,
        "id": "4DI1YRxWykRA",
        "outputId": "c51433fb-6428-4e70-bce9-191c29cff54d"
      },
      "execution_count": 11,
      "outputs": [
        {
          "output_type": "stream",
          "name": "stdout",
          "text": [
            "error: XDG_RUNTIME_DIR not set in the environment.\n",
            "ALSA lib confmisc.c:855:(parse_card) cannot find card '0'\n",
            "ALSA lib conf.c:5178:(_snd_config_evaluate) function snd_func_card_inum returned error: No such file or directory\n",
            "ALSA lib confmisc.c:422:(snd_func_concat) error evaluating strings\n",
            "ALSA lib conf.c:5178:(_snd_config_evaluate) function snd_func_concat returned error: No such file or directory\n",
            "ALSA lib confmisc.c:1334:(snd_func_refer) error evaluating name\n",
            "ALSA lib conf.c:5178:(_snd_config_evaluate) function snd_func_refer returned error: No such file or directory\n",
            "ALSA lib conf.c:5701:(snd_config_expand) Evaluate error: No such file or directory\n",
            "ALSA lib pcm.c:2664:(snd_pcm_open_noupdate) Unknown PCM default\n",
            "ALSA lib confmisc.c:855:(parse_card) cannot find card '0'\n",
            "ALSA lib conf.c:5178:(_snd_config_evaluate) function snd_func_card_inum returned error: No such file or directory\n",
            "ALSA lib confmisc.c:422:(snd_func_concat) error evaluating strings\n",
            "ALSA lib conf.c:5178:(_snd_config_evaluate) function snd_func_concat returned error: No such file or directory\n",
            "ALSA lib confmisc.c:1334:(snd_func_refer) error evaluating name\n",
            "ALSA lib conf.c:5178:(_snd_config_evaluate) function snd_func_refer returned error: No such file or directory\n",
            "ALSA lib conf.c:5701:(snd_config_expand) Evaluate error: No such file or directory\n",
            "ALSA lib pcm.c:2664:(snd_pcm_open_noupdate) Unknown PCM default\n",
            "2025-01-04 14:54:15,900 - INFO - ✅ تم العثور على 2 فيديو.\n",
            "Processing: 100%|████████████████████████████████████████████████| 2/2\n",
            "2025-01-04 14:54:16,256 - INFO - ✅ تم التحقق من صحة 2 فيديو.\n",
            "Processing:   0%|                                                | 0/22025-01-04 14:54:16,257 - INFO - 🔄 معالجة الفيديو: prompt_1_final_video_processed.mp4\n",
            "Processing:  50%|████████████████████████                        | 1/22025-01-04 14:54:16,471 - INFO - 🔄 معالجة الفيديو: prompt_2_final_video_processed.mp4\n",
            "Processing: 100%|████████████████████████████████████████████████| 2/2\n",
            "2025-01-04 14:54:16,744 - INFO - 🔄 بدء حفظ الفيديو النهائي: final_video.mp4\n",
            "Moviepy - Building video /content/drive/MyDrive/YouTubeGen Pro 3/OUTPUT/Merged_Video/final_video.mp4.\n",
            "MoviePy - Writing audio in temp-audio.m4a\n",
            "MoviePy - Done.\n",
            "Moviepy - Writing video /content/drive/MyDrive/YouTubeGen Pro 3/OUTPUT/Merged_Video/final_video.mp4\n",
            "\n",
            "Moviepy - Done !\n",
            "Moviepy - video ready /content/drive/MyDrive/YouTubeGen Pro 3/OUTPUT/Merged_Video/final_video.mp4\n",
            "2025-01-04 14:55:50,606 - INFO - ✅ تم حفظ الفيديو النهائي بنجاح: /content/drive/MyDrive/YouTubeGen Pro 3/OUTPUT/Merged_Video/final_video.mp4\n",
            "2025-01-04 14:55:50,612 - INFO - 🎉 تم إتمام جميع العمليات بنجاح.\n"
          ]
        }
      ]
    },
    {
      "cell_type": "code",
      "source": [
        "!sudo sed -i 's/rights=\"none\"/rights=\"read|write\"/g' /etc/ImageMagick-6/policy.xml"
      ],
      "metadata": {
        "id": "jKdZ4CDu6rPr"
      },
      "execution_count": 65,
      "outputs": []
    },
    {
      "cell_type": "code",
      "source": [
        "!pip install selenium psutil python-dotenv\n",
        "!apt-get update\n",
        "!apt-get install -y chromium-chromedriver"
      ],
      "metadata": {
        "colab": {
          "base_uri": "https://localhost:8080/"
        },
        "collapsed": true,
        "id": "BNMU8OG-13f9",
        "outputId": "f354a021-f283-4da6-8f20-a7481b8f563f"
      },
      "execution_count": 18,
      "outputs": [
        {
          "output_type": "stream",
          "name": "stdout",
          "text": [
            "Requirement already satisfied: selenium in /usr/local/lib/python3.10/dist-packages (4.27.1)\n",
            "Requirement already satisfied: psutil in /usr/local/lib/python3.10/dist-packages (5.9.5)\n",
            "Requirement already satisfied: python-dotenv in /usr/local/lib/python3.10/dist-packages (1.0.1)\n",
            "Requirement already satisfied: urllib3<3,>=1.26 in /usr/local/lib/python3.10/dist-packages (from urllib3[socks]<3,>=1.26->selenium) (2.2.3)\n",
            "Requirement already satisfied: trio~=0.17 in /usr/local/lib/python3.10/dist-packages (from selenium) (0.28.0)\n",
            "Requirement already satisfied: trio-websocket~=0.9 in /usr/local/lib/python3.10/dist-packages (from selenium) (0.11.1)\n",
            "Requirement already satisfied: certifi>=2021.10.8 in /usr/local/lib/python3.10/dist-packages (from selenium) (2024.12.14)\n",
            "Requirement already satisfied: typing_extensions~=4.9 in /usr/local/lib/python3.10/dist-packages (from selenium) (4.12.2)\n",
            "Requirement already satisfied: websocket-client~=1.8 in /usr/local/lib/python3.10/dist-packages (from selenium) (1.8.0)\n",
            "Requirement already satisfied: attrs>=23.2.0 in /usr/local/lib/python3.10/dist-packages (from trio~=0.17->selenium) (24.3.0)\n",
            "Requirement already satisfied: sortedcontainers in /usr/local/lib/python3.10/dist-packages (from trio~=0.17->selenium) (2.4.0)\n",
            "Requirement already satisfied: idna in /usr/local/lib/python3.10/dist-packages (from trio~=0.17->selenium) (3.10)\n",
            "Requirement already satisfied: outcome in /usr/local/lib/python3.10/dist-packages (from trio~=0.17->selenium) (1.3.0.post0)\n",
            "Requirement already satisfied: sniffio>=1.3.0 in /usr/local/lib/python3.10/dist-packages (from trio~=0.17->selenium) (1.3.1)\n",
            "Requirement already satisfied: exceptiongroup in /usr/local/lib/python3.10/dist-packages (from trio~=0.17->selenium) (1.2.2)\n",
            "Requirement already satisfied: wsproto>=0.14 in /usr/local/lib/python3.10/dist-packages (from trio-websocket~=0.9->selenium) (1.2.0)\n",
            "Requirement already satisfied: pysocks!=1.5.7,<2.0,>=1.5.6 in /usr/local/lib/python3.10/dist-packages (from urllib3[socks]<3,>=1.26->selenium) (1.7.1)\n",
            "Requirement already satisfied: h11<1,>=0.9.0 in /usr/local/lib/python3.10/dist-packages (from wsproto>=0.14->trio-websocket~=0.9->selenium) (0.14.0)\n",
            "Hit:1 https://cloud.r-project.org/bin/linux/ubuntu jammy-cran40/ InRelease\n",
            "Hit:2 https://developer.download.nvidia.com/compute/cuda/repos/ubuntu2204/x86_64  InRelease\n",
            "Hit:3 http://security.ubuntu.com/ubuntu jammy-security InRelease\n",
            "Hit:4 https://r2u.stat.illinois.edu/ubuntu jammy InRelease\n",
            "Hit:5 http://archive.ubuntu.com/ubuntu jammy InRelease\n",
            "Hit:6 http://archive.ubuntu.com/ubuntu jammy-updates InRelease\n",
            "Hit:7 https://ppa.launchpadcontent.net/deadsnakes/ppa/ubuntu jammy InRelease\n",
            "Hit:8 http://archive.ubuntu.com/ubuntu jammy-backports InRelease\n",
            "Hit:9 https://ppa.launchpadcontent.net/graphics-drivers/ppa/ubuntu jammy InRelease\n",
            "Hit:10 https://ppa.launchpadcontent.net/ubuntugis/ppa/ubuntu jammy InRelease\n",
            "Reading package lists... Done\n",
            "W: Skipping acquire of configured file 'main/source/Sources' as repository 'https://r2u.stat.illinois.edu/ubuntu jammy InRelease' does not seem to provide it (sources.list entry misspelt?)\n",
            "Reading package lists... Done\n",
            "Building dependency tree... Done\n",
            "Reading state information... Done\n",
            "chromium-chromedriver is already the newest version (1:85.0.4183.83-0ubuntu2.22.04.1).\n",
            "0 upgraded, 0 newly installed, 0 to remove and 53 not upgraded.\n"
          ]
        }
      ]
    },
    {
      "cell_type": "code",
      "source": [
        "!wget https://dl.google.com/linux/direct/google-chrome-unstable_current_amd64.deb\n",
        "!sudo apt install ./google-chrome-unstable_current_amd64.deb"
      ],
      "metadata": {
        "colab": {
          "base_uri": "https://localhost:8080/"
        },
        "collapsed": true,
        "id": "t4L6AlSJ5RFI",
        "outputId": "555ce1ee-8119-464b-fc56-5befa6c31d51"
      },
      "execution_count": 28,
      "outputs": [
        {
          "output_type": "stream",
          "name": "stdout",
          "text": [
            "--2025-01-04 15:18:05--  https://dl.google.com/linux/direct/google-chrome-unstable_current_amd64.deb\n",
            "Resolving dl.google.com (dl.google.com)... 74.125.134.93, 74.125.134.136, 74.125.134.190, ...\n",
            "Connecting to dl.google.com (dl.google.com)|74.125.134.93|:443... connected.\n",
            "HTTP request sent, awaiting response... 200 OK\n",
            "Length: 114266772 (109M) [application/x-debian-package]\n",
            "Saving to: ‘google-chrome-unstable_current_amd64.deb’\n",
            "\n",
            "google-chrome-unsta 100%[===================>] 108.97M  50.9MB/s    in 2.1s    \n",
            "\n",
            "2025-01-04 15:18:08 (50.9 MB/s) - ‘google-chrome-unstable_current_amd64.deb’ saved [114266772/114266772]\n",
            "\n",
            "Reading package lists... Done\n",
            "Building dependency tree... Done\n",
            "Reading state information... Done\n",
            "Note, selecting 'google-chrome-unstable' instead of './google-chrome-unstable_current_amd64.deb'\n",
            "The following additional packages will be installed:\n",
            "  libvulkan1 mesa-vulkan-drivers\n",
            "The following NEW packages will be installed:\n",
            "  google-chrome-unstable libvulkan1 mesa-vulkan-drivers\n",
            "0 upgraded, 3 newly installed, 0 to remove and 53 not upgraded.\n",
            "Need to get 10.9 MB/125 MB of archives.\n",
            "After this operation, 424 MB of additional disk space will be used.\n",
            "Get:1 http://archive.ubuntu.com/ubuntu jammy/main amd64 libvulkan1 amd64 1.3.204.1-2 [128 kB]\n",
            "Get:2 http://archive.ubuntu.com/ubuntu jammy-updates/main amd64 mesa-vulkan-drivers amd64 23.2.1-1ubuntu3.1~22.04.3 [10.7 MB]\n",
            "Get:3 /content/google-chrome-unstable_current_amd64.deb google-chrome-unstable amd64 133.0.6905.0-1 [114 MB]\n",
            "Fetched 10.9 MB in 1s (8,363 kB/s)\n",
            "debconf: unable to initialize frontend: Dialog\n",
            "debconf: (No usable dialog-like program is installed, so the dialog based frontend cannot be used. at /usr/share/perl5/Debconf/FrontEnd/Dialog.pm line 78, <> line 3.)\n",
            "debconf: falling back to frontend: Readline\n",
            "debconf: unable to initialize frontend: Readline\n",
            "debconf: (This frontend requires a controlling tty.)\n",
            "debconf: falling back to frontend: Teletype\n",
            "dpkg-preconfigure: unable to re-open stdin: \n",
            "Selecting previously unselected package libvulkan1:amd64.\n",
            "(Reading database ... 126241 files and directories currently installed.)\n",
            "Preparing to unpack .../libvulkan1_1.3.204.1-2_amd64.deb ...\n",
            "Unpacking libvulkan1:amd64 (1.3.204.1-2) ...\n",
            "Selecting previously unselected package google-chrome-unstable.\n",
            "Preparing to unpack .../google-chrome-unstable_current_amd64.deb ...\n",
            "Unpacking google-chrome-unstable (133.0.6905.0-1) ...\n",
            "Selecting previously unselected package mesa-vulkan-drivers:amd64.\n",
            "Preparing to unpack .../mesa-vulkan-drivers_23.2.1-1ubuntu3.1~22.04.3_amd64.deb ...\n",
            "Unpacking mesa-vulkan-drivers:amd64 (23.2.1-1ubuntu3.1~22.04.3) ...\n",
            "Setting up libvulkan1:amd64 (1.3.204.1-2) ...\n",
            "Setting up mesa-vulkan-drivers:amd64 (23.2.1-1ubuntu3.1~22.04.3) ...\n",
            "Setting up google-chrome-unstable (133.0.6905.0-1) ...\n",
            "update-alternatives: using /usr/bin/google-chrome-unstable to provide /usr/bin/x-www-browser (x-www-browser) in auto mode\n",
            "update-alternatives: using /usr/bin/google-chrome-unstable to provide /usr/bin/gnome-www-browser (gnome-www-browser) in auto mode\n",
            "update-alternatives: using /usr/bin/google-chrome-unstable to provide /usr/bin/google-chrome (google-chrome) in auto mode\n",
            "Processing triggers for man-db (2.10.2-1) ...\n",
            "Processing triggers for libc-bin (2.35-0ubuntu3.4) ...\n",
            "/sbin/ldconfig.real: /usr/local/lib/libtbbbind_2_0.so.3 is not a symbolic link\n",
            "\n",
            "/sbin/ldconfig.real: /usr/local/lib/libtcm.so.1 is not a symbolic link\n",
            "\n",
            "/sbin/ldconfig.real: /usr/local/lib/libtbbbind_2_5.so.3 is not a symbolic link\n",
            "\n",
            "/sbin/ldconfig.real: /usr/local/lib/libtbbmalloc.so.2 is not a symbolic link\n",
            "\n",
            "/sbin/ldconfig.real: /usr/local/lib/libhwloc.so.15 is not a symbolic link\n",
            "\n",
            "/sbin/ldconfig.real: /usr/local/lib/libur_adapter_opencl.so.0 is not a symbolic link\n",
            "\n",
            "/sbin/ldconfig.real: /usr/local/lib/libur_adapter_level_zero.so.0 is not a symbolic link\n",
            "\n",
            "/sbin/ldconfig.real: /usr/local/lib/libtcm_debug.so.1 is not a symbolic link\n",
            "\n",
            "/sbin/ldconfig.real: /usr/local/lib/libtbbmalloc_proxy.so.2 is not a symbolic link\n",
            "\n",
            "/sbin/ldconfig.real: /usr/local/lib/libtbbbind.so.3 is not a symbolic link\n",
            "\n",
            "/sbin/ldconfig.real: /usr/local/lib/libtbb.so.12 is not a symbolic link\n",
            "\n",
            "/sbin/ldconfig.real: /usr/local/lib/libur_loader.so.0 is not a symbolic link\n",
            "\n",
            "/sbin/ldconfig.real: /usr/local/lib/libumf.so.0 is not a symbolic link\n",
            "\n"
          ]
        }
      ]
    },
    {
      "cell_type": "code",
      "source": [
        "!apt-get update\n",
        "!apt-get install -y wget unzip\n",
        "!wget -N https://chromedriver.storage.googleapis.com/LATEST_RELEASE\n",
        "!wget -N https://chromedriver.storage.googleapis.com/$(cat LATEST_RELEASE)/chromedriver_linux64.zip\n",
        "!unzip chromedriver_linux64.zip\n",
        "!chmod +x chromedriver\n",
        "!mv -f chromedriver /usr/bin/chromedriver\n",
        "!rm -f chromedriver_linux64.zip LATEST_RELEASE"
      ],
      "metadata": {
        "colab": {
          "base_uri": "https://localhost:8080/"
        },
        "collapsed": true,
        "id": "X95fYD_t6hLm",
        "outputId": "e5ab051d-6224-436b-ec39-5ac053b75982"
      },
      "execution_count": 13,
      "outputs": [
        {
          "output_type": "stream",
          "name": "stdout",
          "text": [
            "\r0% [Working]\r            \rHit:1 http://security.ubuntu.com/ubuntu jammy-security InRelease\n",
            "\r0% [Connecting to archive.ubuntu.com (185.125.190.81)] [Connected to cloud.r-project.org (108.139.15\r                                                                                                    \rHit:2 https://cloud.r-project.org/bin/linux/ubuntu jammy-cran40/ InRelease\n",
            "\r0% [Waiting for headers] [Connected to r2u.stat.illinois.edu (192.17.190.167)] [Connected to develop\r                                                                                                    \rHit:3 https://developer.download.nvidia.com/compute/cuda/repos/ubuntu2204/x86_64  InRelease\n",
            "Hit:4 http://archive.ubuntu.com/ubuntu jammy InRelease\n",
            "Hit:5 https://r2u.stat.illinois.edu/ubuntu jammy InRelease\n",
            "Hit:6 http://archive.ubuntu.com/ubuntu jammy-updates InRelease\n",
            "Hit:7 http://archive.ubuntu.com/ubuntu jammy-backports InRelease\n",
            "Hit:8 https://ppa.launchpadcontent.net/deadsnakes/ppa/ubuntu jammy InRelease\n",
            "Hit:9 https://ppa.launchpadcontent.net/graphics-drivers/ppa/ubuntu jammy InRelease\n",
            "Hit:10 https://ppa.launchpadcontent.net/ubuntugis/ppa/ubuntu jammy InRelease\n",
            "Reading package lists... Done\n",
            "W: Skipping acquire of configured file 'main/source/Sources' as repository 'https://r2u.stat.illinois.edu/ubuntu jammy InRelease' does not seem to provide it (sources.list entry misspelt?)\n",
            "Reading package lists... Done\n",
            "Building dependency tree... Done\n",
            "Reading state information... Done\n",
            "unzip is already the newest version (6.0-26ubuntu3.2).\n",
            "wget is already the newest version (1.21.2-2ubuntu1.1).\n",
            "0 upgraded, 0 newly installed, 0 to remove and 54 not upgraded.\n",
            "--2025-01-04 18:45:32--  https://chromedriver.storage.googleapis.com/LATEST_RELEASE\n",
            "Resolving chromedriver.storage.googleapis.com (chromedriver.storage.googleapis.com)... 74.125.134.207, 142.251.107.207, 74.125.196.207, ...\n",
            "Connecting to chromedriver.storage.googleapis.com (chromedriver.storage.googleapis.com)|74.125.134.207|:443... connected.\n",
            "HTTP request sent, awaiting response... 200 OK\n",
            "Length: 13 [text/plain]\n",
            "Saving to: ‘LATEST_RELEASE’\n",
            "\n",
            "LATEST_RELEASE      100%[===================>]      13  --.-KB/s    in 0s      \n",
            "\n",
            "2025-01-04 18:45:32 (4.45 MB/s) - ‘LATEST_RELEASE’ saved [13/13]\n",
            "\n",
            "--2025-01-04 18:45:32--  https://chromedriver.storage.googleapis.com/114.0.5735.90/chromedriver_linux64.zip\n",
            "Resolving chromedriver.storage.googleapis.com (chromedriver.storage.googleapis.com)... 74.125.134.207, 142.251.107.207, 74.125.196.207, ...\n",
            "Connecting to chromedriver.storage.googleapis.com (chromedriver.storage.googleapis.com)|74.125.134.207|:443... connected.\n",
            "HTTP request sent, awaiting response... 200 OK\n",
            "Length: 7407250 (7.1M) [application/zip]\n",
            "Saving to: ‘chromedriver_linux64.zip’\n",
            "\n",
            "chromedriver_linux6 100%[===================>]   7.06M  --.-KB/s    in 0.03s   \n",
            "\n",
            "2025-01-04 18:45:32 (219 MB/s) - ‘chromedriver_linux64.zip’ saved [7407250/7407250]\n",
            "\n",
            "Archive:  chromedriver_linux64.zip\n",
            "  inflating: chromedriver            \n",
            "  inflating: LICENSE.chromedriver    \n"
          ]
        }
      ]
    },
    {
      "cell_type": "code",
      "source": [
        "!apt-get install -y google-chrome-stable"
      ],
      "metadata": {
        "colab": {
          "base_uri": "https://localhost:8080/"
        },
        "collapsed": true,
        "id": "5gPHoI8w6net",
        "outputId": "4de69575-48d2-4dcc-f7ff-81a40cbfd1c9"
      },
      "execution_count": 12,
      "outputs": [
        {
          "output_type": "stream",
          "name": "stdout",
          "text": [
            "Reading package lists... Done\n",
            "Building dependency tree... Done\n",
            "Reading state information... Done\n",
            "E: Unable to locate package google-chrome-stable\n"
          ]
        }
      ]
    },
    {
      "cell_type": "code",
      "source": [
        "!apt-get update\n",
        "!apt-get install -y wget unzip\n",
        "!wget -N https://chromedriver.storage.googleapis.com/LATEST_RELEASE\n",
        "!wget -N https://chromedriver.storage.googleapis.com/$(cat LATEST_RELEASE)/chromedriver_linux64.zip\n",
        "!unzip chromedriver_linux64.zip\n",
        "!chmod +x chromedriver\n",
        "!mv -f chromedriver /usr/bin/chromedriver\n",
        "!rm -f chromedriver_linux64.zip LATEST_RELEASE\n"
      ],
      "metadata": {
        "colab": {
          "base_uri": "https://localhost:8080/"
        },
        "collapsed": true,
        "id": "jAQCdYzrAqdL",
        "outputId": "5f3b86a4-4ea8-4037-b750-4cca7bf9910e"
      },
      "execution_count": 15,
      "outputs": [
        {
          "output_type": "stream",
          "name": "stdout",
          "text": [
            "\r0% [Working]\r            \rHit:1 https://cloud.r-project.org/bin/linux/ubuntu jammy-cran40/ InRelease\n",
            "Hit:2 https://developer.download.nvidia.com/compute/cuda/repos/ubuntu2204/x86_64  InRelease\n",
            "Hit:3 http://security.ubuntu.com/ubuntu jammy-security InRelease\n",
            "Hit:4 https://r2u.stat.illinois.edu/ubuntu jammy InRelease\n",
            "Hit:5 http://archive.ubuntu.com/ubuntu jammy InRelease\n",
            "Hit:6 http://archive.ubuntu.com/ubuntu jammy-updates InRelease\n",
            "Hit:7 http://archive.ubuntu.com/ubuntu jammy-backports InRelease\n",
            "Hit:8 https://ppa.launchpadcontent.net/deadsnakes/ppa/ubuntu jammy InRelease\n",
            "Hit:9 https://ppa.launchpadcontent.net/graphics-drivers/ppa/ubuntu jammy InRelease\n",
            "Hit:10 https://ppa.launchpadcontent.net/ubuntugis/ppa/ubuntu jammy InRelease\n",
            "Reading package lists... Done\n",
            "W: Skipping acquire of configured file 'main/source/Sources' as repository 'https://r2u.stat.illinois.edu/ubuntu jammy InRelease' does not seem to provide it (sources.list entry misspelt?)\n",
            "Reading package lists... Done\n",
            "Building dependency tree... Done\n",
            "Reading state information... Done\n",
            "unzip is already the newest version (6.0-26ubuntu3.2).\n",
            "wget is already the newest version (1.21.2-2ubuntu1.1).\n",
            "0 upgraded, 0 newly installed, 0 to remove and 54 not upgraded.\n",
            "--2025-01-04 18:46:36--  https://chromedriver.storage.googleapis.com/LATEST_RELEASE\n",
            "Resolving chromedriver.storage.googleapis.com (chromedriver.storage.googleapis.com)... 74.125.134.207, 142.251.107.207, 74.125.196.207, ...\n",
            "Connecting to chromedriver.storage.googleapis.com (chromedriver.storage.googleapis.com)|74.125.134.207|:443... connected.\n",
            "HTTP request sent, awaiting response... 200 OK\n",
            "Length: 13 [text/plain]\n",
            "Saving to: ‘LATEST_RELEASE’\n",
            "\n",
            "LATEST_RELEASE      100%[===================>]      13  --.-KB/s    in 0s      \n",
            "\n",
            "2025-01-04 18:46:36 (5.04 MB/s) - ‘LATEST_RELEASE’ saved [13/13]\n",
            "\n",
            "--2025-01-04 18:46:36--  https://chromedriver.storage.googleapis.com/114.0.5735.90/chromedriver_linux64.zip\n",
            "Resolving chromedriver.storage.googleapis.com (chromedriver.storage.googleapis.com)... 74.125.134.207, 142.251.107.207, 74.125.196.207, ...\n",
            "Connecting to chromedriver.storage.googleapis.com (chromedriver.storage.googleapis.com)|74.125.134.207|:443... connected.\n",
            "HTTP request sent, awaiting response... 200 OK\n",
            "Length: 7407250 (7.1M) [application/zip]\n",
            "Saving to: ‘chromedriver_linux64.zip’\n",
            "\n",
            "chromedriver_linux6 100%[===================>]   7.06M  --.-KB/s    in 0.04s   \n",
            "\n",
            "2025-01-04 18:46:36 (185 MB/s) - ‘chromedriver_linux64.zip’ saved [7407250/7407250]\n",
            "\n",
            "Archive:  chromedriver_linux64.zip\n",
            "  inflating: chromedriver            \n",
            "replace LICENSE.chromedriver? [y]es, [n]o, [A]ll, [N]one, [r]ename: y\n",
            "  inflating: LICENSE.chromedriver    \n"
          ]
        }
      ]
    },
    {
      "cell_type": "code",
      "source": [
        "!python \"/content/drive/MyDrive/YouTubeGen Pro 3/Models/9 UPLOUD VIDEO YOUTUBE.py\""
      ],
      "metadata": {
        "colab": {
          "base_uri": "https://localhost:8080/"
        },
        "id": "9PkSiGSH0sHW",
        "outputId": "66c1a33d-f809-41d3-a45c-16251d01ced4"
      },
      "execution_count": 18,
      "outputs": [
        {
          "output_type": "stream",
          "name": "stdout",
          "text": [
            "2025-01-04 18:48:06,570 - INFO - ====== WebDriver manager ======\n",
            "2025-01-04 18:48:06,585 - INFO - Get LATEST chromedriver version for google-chrome\n",
            "2025-01-04 18:48:06,621 - INFO - About to download new driver from https://chromedriver.storage.googleapis.com/114.0.5735.90/chromedriver_linux64.zip\n",
            "2025-01-04 18:48:06,718 - INFO - Driver downloading response is 200\n",
            "2025-01-04 18:48:06,817 - INFO - Get LATEST chromedriver version for google-chrome\n",
            "2025-01-04 18:48:07,013 - INFO - Get LATEST chromedriver version for google-chrome\n",
            "2025-01-04 18:48:07,064 - INFO - Driver has been saved in cache [/root/.wdm/drivers/chromedriver/linux64/114.0.5735.90]\n",
            "Traceback (most recent call last):\n",
            "  File \"/content/drive/MyDrive/YouTubeGen Pro 3/Models/9 UPLOUD VIDEO YOUTUBE.py\", line 175, in <module>\n",
            "    main()\n",
            "  File \"/content/drive/MyDrive/YouTubeGen Pro 3/Models/9 UPLOUD VIDEO YOUTUBE.py\", line 161, in main\n",
            "    bot = webdriver.Chrome(service=service, options=options)\n",
            "  File \"/usr/local/lib/python3.10/dist-packages/selenium/webdriver/chrome/webdriver.py\", line 45, in __init__\n",
            "    super().__init__(\n",
            "  File \"/usr/local/lib/python3.10/dist-packages/selenium/webdriver/chromium/webdriver.py\", line 66, in __init__\n",
            "    super().__init__(command_executor=executor, options=options)\n",
            "  File \"/usr/local/lib/python3.10/dist-packages/selenium/webdriver/remote/webdriver.py\", line 241, in __init__\n",
            "    self.start_session(capabilities)\n",
            "  File \"/usr/local/lib/python3.10/dist-packages/selenium/webdriver/remote/webdriver.py\", line 329, in start_session\n",
            "    response = self.execute(Command.NEW_SESSION, caps)[\"value\"]\n",
            "  File \"/usr/local/lib/python3.10/dist-packages/selenium/webdriver/remote/webdriver.py\", line 384, in execute\n",
            "    self.error_handler.check_response(response)\n",
            "  File \"/usr/local/lib/python3.10/dist-packages/selenium/webdriver/remote/errorhandler.py\", line 232, in check_response\n",
            "    raise exception_class(message, screen, stacktrace)\n",
            "selenium.common.exceptions.WebDriverException: Message: unknown error: cannot find Chrome binary\n",
            "Stacktrace:\n",
            "#0 0x5cfe147e84e3 <unknown>\n",
            "#1 0x5cfe14517c76 <unknown>\n",
            "#2 0x5cfe1453e757 <unknown>\n",
            "#3 0x5cfe1453d029 <unknown>\n",
            "#4 0x5cfe1457bccc <unknown>\n",
            "#5 0x5cfe1457b47f <unknown>\n",
            "#6 0x5cfe14572de3 <unknown>\n",
            "#7 0x5cfe145482dd <unknown>\n",
            "#8 0x5cfe1454934e <unknown>\n",
            "#9 0x5cfe147a83e4 <unknown>\n",
            "#10 0x5cfe147ac3d7 <unknown>\n",
            "#11 0x5cfe147b6b20 <unknown>\n",
            "#12 0x5cfe147ad023 <unknown>\n",
            "#13 0x5cfe1477b1aa <unknown>\n",
            "#14 0x5cfe147d16b8 <unknown>\n",
            "#15 0x5cfe147d1847 <unknown>\n",
            "#16 0x5cfe147e1243 <unknown>\n",
            "#17 0x7a686f24dac3 <unknown>\n",
            "\n"
          ]
        }
      ]
    }
  ]
}